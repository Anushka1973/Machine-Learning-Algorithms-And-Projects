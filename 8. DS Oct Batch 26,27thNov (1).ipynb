{
 "cells": [
  {
   "cell_type": "markdown",
   "id": "bd7c1855",
   "metadata": {},
   "source": [
    "# Sentiment Analysis using NLP"
   ]
  },
  {
   "cell_type": "markdown",
   "id": "8aacee07",
   "metadata": {},
   "source": [
    "Sentiment Analysis means to identify the view or emotion behind a situation. It basically means to analyze and find the \n",
    "emotion or intent behind a piece of text or speech or any mode of communication."
   ]
  },
  {
   "cell_type": "markdown",
   "id": "1652ee1b",
   "metadata": {},
   "source": [
    "This burger has a very bad taste- negative review\n",
    "\n",
    "I ordered this pizza today- neutral startement\n",
    "\n",
    "I love this cheese sandwich, it's so delicious- positive review"
   ]
  },
  {
   "cell_type": "code",
   "execution_count": 10,
   "id": "69d31081",
   "metadata": {},
   "outputs": [],
   "source": [
    "import pandas as pd\n",
    "import nltk\n",
    "from nltk.corpus import stopwords\n",
    "from nltk.stem import WordNetLemmatizer\n",
    "import seaborn as sns"
   ]
  },
  {
   "cell_type": "code",
   "execution_count": 11,
   "id": "1d998e7a",
   "metadata": {},
   "outputs": [],
   "source": [
    "from sklearn.feature_extraction.text import CountVectorizer\n",
    "from sklearn.model_selection import GridSearchCV\n",
    "from sklearn.ensemble import RandomForestClassifier"
   ]
  },
  {
   "cell_type": "code",
   "execution_count": null,
   "id": "d545e6d4",
   "metadata": {},
   "outputs": [],
   "source": []
  },
  {
   "cell_type": "code",
   "execution_count": 12,
   "id": "9dd6882a",
   "metadata": {},
   "outputs": [],
   "source": [
    "df_train= pd.read_csv(\"train.txt\", delimiter=\";\", names=['text','label'])\n",
    "\n",
    "df_val= pd.read_csv(\"val.txt\",delimiter=\";\", names=['text','label'])"
   ]
  },
  {
   "cell_type": "code",
   "execution_count": 13,
   "id": "b3a4b2cf",
   "metadata": {},
   "outputs": [],
   "source": [
    "df= pd.concat([df_train, df_val])\n",
    "df.reset_index(inplace=True, drop=True)"
   ]
  },
  {
   "cell_type": "code",
   "execution_count": 14,
   "id": "663fa1b3",
   "metadata": {},
   "outputs": [
    {
     "name": "stdout",
     "output_type": "stream",
     "text": [
      "Shape of the dataframe: (18000, 2)\n"
     ]
    },
    {
     "data": {
      "text/html": [
       "<div>\n",
       "<style scoped>\n",
       "    .dataframe tbody tr th:only-of-type {\n",
       "        vertical-align: middle;\n",
       "    }\n",
       "\n",
       "    .dataframe tbody tr th {\n",
       "        vertical-align: top;\n",
       "    }\n",
       "\n",
       "    .dataframe thead th {\n",
       "        text-align: right;\n",
       "    }\n",
       "</style>\n",
       "<table border=\"1\" class=\"dataframe\">\n",
       "  <thead>\n",
       "    <tr style=\"text-align: right;\">\n",
       "      <th></th>\n",
       "      <th>text</th>\n",
       "      <th>label</th>\n",
       "    </tr>\n",
       "  </thead>\n",
       "  <tbody>\n",
       "    <tr>\n",
       "      <th>1799</th>\n",
       "      <td>ive heard stories about julie baileys treatmen...</td>\n",
       "      <td>sadness</td>\n",
       "    </tr>\n",
       "    <tr>\n",
       "      <th>152</th>\n",
       "      <td>i still feel it does the genre a disservice wh...</td>\n",
       "      <td>joy</td>\n",
       "    </tr>\n",
       "    <tr>\n",
       "      <th>4449</th>\n",
       "      <td>i personally feel they are doomed to finish de...</td>\n",
       "      <td>sadness</td>\n",
       "    </tr>\n",
       "    <tr>\n",
       "      <th>8489</th>\n",
       "      <td>i am feeling something ive never ever felt bef...</td>\n",
       "      <td>joy</td>\n",
       "    </tr>\n",
       "    <tr>\n",
       "      <th>12837</th>\n",
       "      <td>i feel like its my fault for letting the vampi...</td>\n",
       "      <td>joy</td>\n",
       "    </tr>\n",
       "  </tbody>\n",
       "</table>\n",
       "</div>"
      ],
      "text/plain": [
       "                                                    text    label\n",
       "1799   ive heard stories about julie baileys treatmen...  sadness\n",
       "152    i still feel it does the genre a disservice wh...      joy\n",
       "4449   i personally feel they are doomed to finish de...  sadness\n",
       "8489   i am feeling something ive never ever felt bef...      joy\n",
       "12837  i feel like its my fault for letting the vampi...      joy"
      ]
     },
     "execution_count": 14,
     "metadata": {},
     "output_type": "execute_result"
    }
   ],
   "source": [
    "print(\"Shape of the dataframe:\",df.shape)\n",
    "df.sample(5)"
   ]
  },
  {
   "cell_type": "code",
   "execution_count": 15,
   "id": "10570cae",
   "metadata": {},
   "outputs": [
    {
     "name": "stderr",
     "output_type": "stream",
     "text": [
      "C:\\ProgramData\\Anaconda3\\lib\\site-packages\\seaborn\\_decorators.py:36: FutureWarning: Pass the following variable as a keyword arg: x. From version 0.12, the only valid positional argument will be `data`, and passing other arguments without an explicit keyword will result in an error or misinterpretation.\n",
      "  warnings.warn(\n"
     ]
    },
    {
     "data": {
      "text/plain": [
       "<AxesSubplot:xlabel='label', ylabel='count'>"
      ]
     },
     "execution_count": 15,
     "metadata": {},
     "output_type": "execute_result"
    },
    {
     "data": {
      "image/png": "[encoded data removed]",
      "text/plain": [
       "<Figure size 432x288 with 1 Axes>"
      ]
     },
     "metadata": {
      "needs_background": "light"
     },
     "output_type": "display_data"
    }
   ],
   "source": [
    "sns.countplot(df.label)"
   ]
  },
  {
   "cell_type": "markdown",
   "id": "dbc046d0",
   "metadata": {},
   "source": [
    "As we can see that, we have 6 labels or targets in the dataset. For the sake of simplicity, we will merge\n",
    "these labels into two classes i.e. Positive and Negative sentiment\n",
    "\n",
    "Positive Sentiment- joy, love, surprise\n",
    "\n",
    "Negative Sentiment- anger, sadness, fear"
   ]
  },
  {
   "cell_type": "code",
   "execution_count": 16,
   "id": "432cb22e",
   "metadata": {},
   "outputs": [],
   "source": [
    "def custom_encoder(df):\n",
    "    df.replace(to_replace='surprise',value=1,inplace=True)\n",
    "    df.replace(to_replace='love',value=1,inplace=True)\n",
    "    df.replace(to_replace='joy',value=1,inplace=True)\n",
    "    df.replace(to_replace='fear',value=0,inplace=True)\n",
    "    df.replace(to_replace='anger',value=0,inplace=True)\n",
    "    df.replace(to_replace='sadness',value=0,inplace=True)\n",
    "    "
   ]
  },
  {
   "cell_type": "code",
   "execution_count": 17,
   "id": "a73597a7",
   "metadata": {},
   "outputs": [],
   "source": [
    "custom_encoder(df['label'])"
   ]
  },
  {
   "cell_type": "code",
   "execution_count": 18,
   "id": "c7de4952",
   "metadata": {},
   "outputs": [
    {
     "name": "stderr",
     "output_type": "stream",
     "text": [
      "C:\\ProgramData\\Anaconda3\\lib\\site-packages\\seaborn\\_decorators.py:36: FutureWarning: Pass the following variable as a keyword arg: x. From version 0.12, the only valid positional argument will be `data`, and passing other arguments without an explicit keyword will result in an error or misinterpretation.\n",
      "  warnings.warn(\n"
     ]
    },
    {
     "data": {
      "text/plain": [
       "<AxesSubplot:xlabel='label', ylabel='count'>"
      ]
     },
     "execution_count": 18,
     "metadata": {},
     "output_type": "execute_result"
    },
    {
     "data": {
      "image/png": "[encoded data removed]",
      "text/plain": [
       "<Figure size 432x288 with 1 Axes>"
      ]
     },
     "metadata": {
      "needs_background": "light"
     },
     "output_type": "display_data"
    }
   ],
   "source": [
    "sns.countplot(df.label)"
   ]
  },
  {
   "cell_type": "markdown",
   "id": "bdb3facf",
   "metadata": {},
   "source": [
    "Now, we can see that our target has changed to 0 and 1 i.e 0 for Negative and 1 for Positive\n",
    "and the data is more or less in a balanced state."
   ]
  },
  {
   "cell_type": "markdown",
   "id": "7975c4d8",
   "metadata": {},
   "source": [
    "Data Preprocessing Steps"
   ]
  },
  {
   "cell_type": "markdown",
   "id": "77d6ad59",
   "metadata": {},
   "source": [
    "1. We will iterate through each record and using a regular expression we will get rid of any characters\n",
    "apart from alphabets.\n",
    "\n",
    "2. We will convert the string to lowercase becasue Python language is case-sensitive.\n",
    "\n",
    "3. We will check for stopwords in the data and get rid of them.\n",
    "\n",
    "4. We will perform stemming or lemmatization on each word."
   ]
  },
  {
   "cell_type": "code",
   "execution_count": 24,
   "id": "612d4513",
   "metadata": {},
   "outputs": [],
   "source": [
    "lm=WordNetLemmatizer()"
   ]
  },
  {
   "cell_type": "code",
   "execution_count": 25,
   "id": "75bb2238",
   "metadata": {},
   "outputs": [],
   "source": [
    "import re\n",
    "\n",
    "def text_transformation(df_col):\n",
    "    corpus=[]\n",
    "    for item in df_col:\n",
    "        new_item= re.sub('[^a-zA-Z]',' ',str(item))\n",
    "        new_item= new_item.lower()\n",
    "        new_item= new_item.split()\n",
    "        new_item=[lm.lemmatize(word) for word in new_item if word not in set(stopwords.words('english'))]\n",
    "        corpus.append(' '.join(str(x) for x in new_item))\n",
    "    return corpus"
   ]
  },
  {
   "cell_type": "code",
   "execution_count": 26,
   "id": "a052f67c",
   "metadata": {},
   "outputs": [],
   "source": [
    "corpus= text_transformation(df['text'])"
   ]
  },
  {
   "cell_type": "code",
   "execution_count": 27,
   "id": "3d9568d1",
   "metadata": {},
   "outputs": [],
   "source": [
    "cv= CountVectorizer(ngram_range=(1,2))\n",
    "traindata=cv.fit_transform(corpus)\n",
    "X=traindata\n",
    "y=df.label"
   ]
  },
  {
   "cell_type": "markdown",
   "id": "f803d261",
   "metadata": {},
   "source": [
    "Now, comes the ML model part and we will use Random Forest classifier and we will tune hyperparameter using GridSearch CV"
   ]
  },
  {
   "cell_type": "code",
   "execution_count": 28,
   "id": "78c614cb",
   "metadata": {},
   "outputs": [],
   "source": [
    "parameters= {'max_features':('auto','sqrt'),\n",
    "             'n_estimators':[5,10],\n",
    "             'max_depth':[10,None],\n",
    "             'min_samples_split':[5],\n",
    "             'min_samples_leaf':[1],\n",
    "             'bootstrap':[True]\n",
    "             }"
   ]
  },
  {
   "cell_type": "markdown",
   "id": "96cd732b",
   "metadata": {},
   "source": [
    "Now, we will fit the data into grid search CV and view the best parameters using the best_params attribute"
   ]
  },
  {
   "cell_type": "code",
   "execution_count": 30,
   "id": "eef79f37",
   "metadata": {},
   "outputs": [
    {
     "data": {
      "text/plain": [
       "{'bootstrap': True,\n",
       " 'max_depth': None,\n",
       " 'max_features': 'sqrt',\n",
       " 'min_samples_leaf': 1,\n",
       " 'min_samples_split': 5,\n",
       " 'n_estimators': 10}"
      ]
     },
     "execution_count": 30,
     "metadata": {},
     "output_type": "execute_result"
    }
   ],
   "source": [
    "grid_search= GridSearchCV(RandomForestClassifier(), parameters, cv=5, return_train_score=True, n_jobs=1)\n",
    "grid_search.fit(X,y)\n",
    "grid_search.best_params_"
   ]
  },
  {
   "cell_type": "code",
   "execution_count": 32,
   "id": "23765a9c",
   "metadata": {},
   "outputs": [
    {
     "name": "stdout",
     "output_type": "stream",
     "text": [
      "Parameters:  {'bootstrap': True, 'max_depth': 10, 'max_features': 'auto', 'min_samples_leaf': 1, 'min_samples_split': 5, 'n_estimators': 5}\n",
      "Mean Test Score:  0.5948333333333333\n",
      "Rank:  [7 5 8 6 4 2 3 1]\n",
      "Parameters:  {'bootstrap': True, 'max_depth': 10, 'max_features': 'auto', 'min_samples_leaf': 1, 'min_samples_split': 5, 'n_estimators': 10}\n",
      "Mean Test Score:  0.6216111111111111\n",
      "Rank:  [7 5 8 6 4 2 3 1]\n",
      "Parameters:  {'bootstrap': True, 'max_depth': 10, 'max_features': 'sqrt', 'min_samples_leaf': 1, 'min_samples_split': 5, 'n_estimators': 5}\n",
      "Mean Test Score:  0.5884444444444444\n",
      "Rank:  [7 5 8 6 4 2 3 1]\n",
      "Parameters:  {'bootstrap': True, 'max_depth': 10, 'max_features': 'sqrt', 'min_samples_leaf': 1, 'min_samples_split': 5, 'n_estimators': 10}\n",
      "Mean Test Score:  0.6172777777777778\n",
      "Rank:  [7 5 8 6 4 2 3 1]\n",
      "Parameters:  {'bootstrap': True, 'max_depth': None, 'max_features': 'auto', 'min_samples_leaf': 1, 'min_samples_split': 5, 'n_estimators': 5}\n",
      "Mean Test Score:  0.9093333333333333\n",
      "Rank:  [7 5 8 6 4 2 3 1]\n",
      "Parameters:  {'bootstrap': True, 'max_depth': None, 'max_features': 'auto', 'min_samples_leaf': 1, 'min_samples_split': 5, 'n_estimators': 10}\n",
      "Mean Test Score:  0.9333888888888889\n",
      "Rank:  [7 5 8 6 4 2 3 1]\n",
      "Parameters:  {'bootstrap': True, 'max_depth': None, 'max_features': 'sqrt', 'min_samples_leaf': 1, 'min_samples_split': 5, 'n_estimators': 5}\n",
      "Mean Test Score:  0.9136666666666666\n",
      "Rank:  [7 5 8 6 4 2 3 1]\n",
      "Parameters:  {'bootstrap': True, 'max_depth': None, 'max_features': 'sqrt', 'min_samples_leaf': 1, 'min_samples_split': 5, 'n_estimators': 10}\n",
      "Mean Test Score:  0.9338888888888889\n",
      "Rank:  [7 5 8 6 4 2 3 1]\n"
     ]
    }
   ],
   "source": [
    "for i in range(8):\n",
    "    print('Parameters: ',grid_search.cv_results_['params'][i])\n",
    "    print('Mean Test Score: ',grid_search.cv_results_['mean_test_score'][i])\n",
    "    print('Rank: ',grid_search.cv_results_['rank_test_score'])"
   ]
  },
  {
   "cell_type": "markdown",
   "id": "d58b09f4",
   "metadata": {},
   "source": [
    "Now, we will choose the best parameters obtained from GridSearchCV and create a final random forest classifier model\n",
    "and then train our model."
   ]
  },
  {
   "cell_type": "code",
   "execution_count": 33,
   "id": "d55e9a5e",
   "metadata": {},
   "outputs": [
    {
     "data": {
      "text/plain": [
       "RandomForestClassifier(max_features='sqrt', min_samples_split=5,\n",
       "                       n_estimators=10)"
      ]
     },
     "execution_count": 33,
     "metadata": {},
     "output_type": "execute_result"
    }
   ],
   "source": [
    "rfc= RandomForestClassifier(max_features= grid_search.best_params_['max_features'],\n",
    "                           max_depth= grid_search.best_params_['max_depth'],\n",
    "                           n_estimators= grid_search.best_params_['n_estimators'],\n",
    "                           min_samples_split= grid_search.best_params_['min_samples_split'],\n",
    "                           min_samples_leaf= grid_search.best_params_['min_samples_leaf'],\n",
    "                           bootstrap= grid_search.best_params_['bootstrap']\n",
    "                           )\n",
    "\n",
    "rfc.fit(X,y)"
   ]
  },
  {
   "cell_type": "markdown",
   "id": "670edac5",
   "metadata": {},
   "source": [
    "Test Data Transformation\n",
    "\n",
    "Now we will finally read the test data and perform the same transformation we did on the training data\n",
    "and finally evaluate the model on its prediction."
   ]
  },
  {
   "cell_type": "code",
   "execution_count": 35,
   "id": "3732f361",
   "metadata": {},
   "outputs": [],
   "source": [
    "test_df= pd.read_csv('test.txt', delimiter=';', names=['text','label'])"
   ]
  },
  {
   "cell_type": "code",
   "execution_count": 36,
   "id": "b4ed4fc6",
   "metadata": {},
   "outputs": [],
   "source": [
    "X_test, y_test=test_df.text, test_df.label\n",
    "\n",
    "# encode the labels into two classes 0 and 1\n",
    "test_df= custom_encoder(y_test)\n",
    "\n",
    "# pre-processing of text\n",
    "test_corpus= text_transformation(X_test)\n",
    "\n",
    "# convert text data into vectors\n",
    "testdata= cv.transform(test_corpus)\n",
    "\n",
    "# predict the target\n",
    "predictions=rfc.predict(testdata)"
   ]
  },
  {
   "cell_type": "markdown",
   "id": "187fd51b",
   "metadata": {},
   "source": [
    "Model Evaluation\n",
    "\n",
    "We will evaluate our model using various merics such as accuracy score, precision score, recall score,\n",
    "confusion matrix and create a ROC curve to visualise how our model performed."
   ]
  },
  {
   "cell_type": "code",
   "execution_count": 38,
   "id": "a5b4fd62",
   "metadata": {},
   "outputs": [
    {
     "name": "stdout",
     "output_type": "stream",
     "text": [
      "Accuracy_Score:  0.9515\n",
      "Precision_Score:  0.9487459105779716\n",
      "Recall_Score:  0.9456521739130435\n",
      "--------------------------------------------------\n",
      "              precision    recall  f1-score   support\n",
      "\n",
      "           0       0.95      0.96      0.96      1080\n",
      "           1       0.95      0.95      0.95       920\n",
      "\n",
      "    accuracy                           0.95      2000\n",
      "   macro avg       0.95      0.95      0.95      2000\n",
      "weighted avg       0.95      0.95      0.95      2000\n",
      "\n"
     ]
    }
   ],
   "source": [
    "from sklearn.metrics import accuracy_score, precision_score, recall_score, confusion_matrix,roc_curve\n",
    "from sklearn.metrics import classification_report, plot_confusion_matrix\n",
    "\n",
    "acc_score= accuracy_score(y_test, predictions)\n",
    "pre_score= precision_score(y_test, predictions)\n",
    "rec_score=recall_score(y_test, predictions)\n",
    "\n",
    "print('Accuracy_Score: ',acc_score)\n",
    "print('Precision_Score: ',pre_score)\n",
    "print('Recall_Score: ',rec_score)\n",
    "print(\"-\"*50)\n",
    "cr=classification_report(y_test, predictions)\n",
    "print(cr)"
   ]
  },
  {
   "cell_type": "markdown",
   "id": "612ac589",
   "metadata": {},
   "source": [
    "ROC Curve- We will find the probability of the class using the predict_proba() method of random forest classifier\n",
    "and then we will plot the curve"
   ]
  },
  {
   "cell_type": "code",
   "execution_count": 41,
   "id": "03356494",
   "metadata": {},
   "outputs": [
    {
     "data": {
      "image/png": "[encoded data removed]",
      "text/plain": [
       "<Figure size 432x288 with 1 Axes>"
      ]
     },
     "metadata": {
      "needs_background": "light"
     },
     "output_type": "display_data"
    }
   ],
   "source": [
    "import matplotlib.pyplot as plt\n",
    "\n",
    "predictions_probability= rfc.predict_proba(testdata)\n",
    "fpr, tpr, threshold= roc_curve(y_test, predictions_probability[:,1])\n",
    "plt.plot(fpr,tpr)\n",
    "plt.plot([0,1])\n",
    "plt.title('ROC Curve')\n",
    "plt.xlabel('False Positive Rate')\n",
    "plt.ylabel('True Positive Rate')\n",
    "plt.show()"
   ]
  },
  {
   "cell_type": "markdown",
   "id": "830b74ff",
   "metadata": {},
   "source": [
    "Now we will check for custom input as well and let our model identify the sentiment of the input statement"
   ]
  },
  {
   "cell_type": "code",
   "execution_count": 42,
   "id": "4df2073e",
   "metadata": {},
   "outputs": [],
   "source": [
    "def expression_check(prediction_input):\n",
    "    if prediction_input==0:\n",
    "        print(\"Input statement has negative sentiment\")\n",
    "    elif prediction_input==1:\n",
    "        print(\"Input statement has positive sentiment\")\n",
    "    else:\n",
    "        print(\"Invalid Statement\")"
   ]
  },
  {
   "cell_type": "markdown",
   "id": "28db0600",
   "metadata": {},
   "source": [
    "Function to take the input statement and perform the same transformation we did earlier"
   ]
  },
  {
   "cell_type": "code",
   "execution_count": 46,
   "id": "6a29343f",
   "metadata": {},
   "outputs": [],
   "source": [
    "def sentiment_predictor(input):\n",
    "    input= text_transformation(input)\n",
    "    transformed_input= cv.transform(input)\n",
    "    prediction=rfc.predict(transformed_input)\n",
    "    expression_check(prediction)"
   ]
  },
  {
   "cell_type": "code",
   "execution_count": 47,
   "id": "2b7c4368",
   "metadata": {},
   "outputs": [],
   "source": [
    "input1=[\"Sometimes I just don't want to go out\"]\n",
    "input2=[\"I bought a new phone and it's so good\"]"
   ]
  },
  {
   "cell_type": "code",
   "execution_count": 48,
   "id": "9b865d2b",
   "metadata": {},
   "outputs": [
    {
     "name": "stdout",
     "output_type": "stream",
     "text": [
      "Input statement has negative sentiment\n",
      "Input statement has positive sentiment\n"
     ]
    }
   ],
   "source": [
    "sentiment_predictor(input1)\n",
    "sentiment_predictor(input2)"
   ]
  },
  {
   "cell_type": "markdown",
   "id": "3f120d15",
   "metadata": {},
   "source": [
    "# Movie Recommender System"
   ]
  },
  {
   "cell_type": "markdown",
   "id": "c05e9c41",
   "metadata": {},
   "source": [
    "Recommender Systems also labelled as recommendation systems, are statistical algorithms that recommend products to users\n",
    "based on similarities between the buying trends of various user or similarities between the products.\n",
    "\n",
    "In this project, you will see how to create a simple movie recommendation system, which recommends movies to a user using\n",
    "item-based collaborative filtering."
   ]
  },
  {
   "cell_type": "markdown",
   "id": "222d9a9d",
   "metadata": {},
   "source": [
    "Collaborative Filtering- The process used to calculate similarities between the buying tends of various user\n",
    "or similarities between products is called as collaborative filtering.\n",
    "\n",
    "Collaborative Filtering on the whole is classifier into two types- User based collaborative filtering,\n",
    "item based collaborative filtering."
   ]
  },
  {
   "cell_type": "markdown",
   "id": "eea5c6ca",
   "metadata": {},
   "source": [
    "User Based Collaborative Filtering- It is dependent on user choices. For example, in a recommender system\n",
    "based on user-based collaborative filtering, if two users X and Y, like products A and B and there is another\n",
    "user Z who likes product A, then the product B will also be recommended to user Z.\n",
    "\n",
    "One of the main disadvantages of User-based collaborative filtering is that user choices are evolved over time.\n",
    "\n",
    "Hence, user-based collaborative filtering becomes a complex task statistically."
   ]
  },
  {
   "cell_type": "markdown",
   "id": "c7547612",
   "metadata": {},
   "source": [
    "Item-based collaborative Filtering- In item based collaborative filtering, products are recommended based on\n",
    "similarities between themselves. For example- if a user likes Product and product A has properties X and Y,\n",
    "another product B with properties X and Y will also be recommended to the user."
   ]
  },
  {
   "cell_type": "code",
   "execution_count": 1,
   "id": "e62c995a",
   "metadata": {},
   "outputs": [],
   "source": [
    "import numpy as np\n",
    "import pandas as pd\n",
    "import matplotlib.pyplot as plt\n",
    "import seaborn as sns"
   ]
  },
  {
   "cell_type": "markdown",
   "id": "bb6fd575",
   "metadata": {},
   "source": [
    "The dataset contains around 100,000 movie reviews applied to 9,000 movies by 600 users"
   ]
  },
  {
   "cell_type": "code",
   "execution_count": 2,
   "id": "ec7b3a99",
   "metadata": {},
   "outputs": [
    {
     "data": {
      "text/html": [
       "<div>\n",
       "<style scoped>\n",
       "    .dataframe tbody tr th:only-of-type {\n",
       "        vertical-align: middle;\n",
       "    }\n",
       "\n",
       "    .dataframe tbody tr th {\n",
       "        vertical-align: top;\n",
       "    }\n",
       "\n",
       "    .dataframe thead th {\n",
       "        text-align: right;\n",
       "    }\n",
       "</style>\n",
       "<table border=\"1\" class=\"dataframe\">\n",
       "  <thead>\n",
       "    <tr style=\"text-align: right;\">\n",
       "      <th></th>\n",
       "      <th>movieId</th>\n",
       "      <th>title</th>\n",
       "      <th>genres</th>\n",
       "    </tr>\n",
       "  </thead>\n",
       "  <tbody>\n",
       "    <tr>\n",
       "      <th>0</th>\n",
       "      <td>1</td>\n",
       "      <td>Toy Story (1995)</td>\n",
       "      <td>Adventure|Animation|Children|Comedy|Fantasy</td>\n",
       "    </tr>\n",
       "    <tr>\n",
       "      <th>1</th>\n",
       "      <td>2</td>\n",
       "      <td>Jumanji (1995)</td>\n",
       "      <td>Adventure|Children|Fantasy</td>\n",
       "    </tr>\n",
       "    <tr>\n",
       "      <th>2</th>\n",
       "      <td>3</td>\n",
       "      <td>Grumpier Old Men (1995)</td>\n",
       "      <td>Comedy|Romance</td>\n",
       "    </tr>\n",
       "    <tr>\n",
       "      <th>3</th>\n",
       "      <td>4</td>\n",
       "      <td>Waiting to Exhale (1995)</td>\n",
       "      <td>Comedy|Drama|Romance</td>\n",
       "    </tr>\n",
       "    <tr>\n",
       "      <th>4</th>\n",
       "      <td>5</td>\n",
       "      <td>Father of the Bride Part II (1995)</td>\n",
       "      <td>Comedy</td>\n",
       "    </tr>\n",
       "  </tbody>\n",
       "</table>\n",
       "</div>"
      ],
      "text/plain": [
       "   movieId                               title  \\\n",
       "0        1                    Toy Story (1995)   \n",
       "1        2                      Jumanji (1995)   \n",
       "2        3             Grumpier Old Men (1995)   \n",
       "3        4            Waiting to Exhale (1995)   \n",
       "4        5  Father of the Bride Part II (1995)   \n",
       "\n",
       "                                        genres  \n",
       "0  Adventure|Animation|Children|Comedy|Fantasy  \n",
       "1                   Adventure|Children|Fantasy  \n",
       "2                               Comedy|Romance  \n",
       "3                         Comedy|Drama|Romance  \n",
       "4                                       Comedy  "
      ]
     },
     "execution_count": 2,
     "metadata": {},
     "output_type": "execute_result"
    }
   ],
   "source": [
    "movie_ids_titles= pd.read_csv(\"movies.csv\")\n",
    "\n",
    "movie_ids_titles.head()"
   ]
  },
  {
   "cell_type": "code",
   "execution_count": 3,
   "id": "504529a0",
   "metadata": {},
   "outputs": [
    {
     "data": {
      "text/html": [
       "<div>\n",
       "<style scoped>\n",
       "    .dataframe tbody tr th:only-of-type {\n",
       "        vertical-align: middle;\n",
       "    }\n",
       "\n",
       "    .dataframe tbody tr th {\n",
       "        vertical-align: top;\n",
       "    }\n",
       "\n",
       "    .dataframe thead th {\n",
       "        text-align: right;\n",
       "    }\n",
       "</style>\n",
       "<table border=\"1\" class=\"dataframe\">\n",
       "  <thead>\n",
       "    <tr style=\"text-align: right;\">\n",
       "      <th></th>\n",
       "      <th>userId</th>\n",
       "      <th>movieId</th>\n",
       "      <th>rating</th>\n",
       "      <th>timestamp</th>\n",
       "    </tr>\n",
       "  </thead>\n",
       "  <tbody>\n",
       "    <tr>\n",
       "      <th>0</th>\n",
       "      <td>1</td>\n",
       "      <td>1</td>\n",
       "      <td>4.0</td>\n",
       "      <td>964982703</td>\n",
       "    </tr>\n",
       "    <tr>\n",
       "      <th>1</th>\n",
       "      <td>1</td>\n",
       "      <td>3</td>\n",
       "      <td>4.0</td>\n",
       "      <td>964981247</td>\n",
       "    </tr>\n",
       "    <tr>\n",
       "      <th>2</th>\n",
       "      <td>1</td>\n",
       "      <td>6</td>\n",
       "      <td>4.0</td>\n",
       "      <td>964982224</td>\n",
       "    </tr>\n",
       "    <tr>\n",
       "      <th>3</th>\n",
       "      <td>1</td>\n",
       "      <td>47</td>\n",
       "      <td>5.0</td>\n",
       "      <td>964983815</td>\n",
       "    </tr>\n",
       "    <tr>\n",
       "      <th>4</th>\n",
       "      <td>1</td>\n",
       "      <td>50</td>\n",
       "      <td>5.0</td>\n",
       "      <td>964982931</td>\n",
       "    </tr>\n",
       "  </tbody>\n",
       "</table>\n",
       "</div>"
      ],
      "text/plain": [
       "   userId  movieId  rating  timestamp\n",
       "0       1        1     4.0  964982703\n",
       "1       1        3     4.0  964981247\n",
       "2       1        6     4.0  964982224\n",
       "3       1       47     5.0  964983815\n",
       "4       1       50     5.0  964982931"
      ]
     },
     "execution_count": 3,
     "metadata": {},
     "output_type": "execute_result"
    }
   ],
   "source": [
    "movie_ids_ratings= pd.read_csv(\"ratings.csv\")\n",
    "\n",
    "movie_ids_ratings.head()"
   ]
  },
  {
   "cell_type": "code",
   "execution_count": 4,
   "id": "c4d5cbd7",
   "metadata": {},
   "outputs": [
    {
     "data": {
      "text/plain": [
       "(100836, 4)"
      ]
     },
     "execution_count": 4,
     "metadata": {},
     "output_type": "execute_result"
    }
   ],
   "source": [
    "movie_ids_ratings.shape"
   ]
  },
  {
   "cell_type": "markdown",
   "id": "b5554e8c",
   "metadata": {},
   "source": [
    "Data Preprocessing- We need a dataframe that consists of userId, movieId, title and ratings. We can create such a dataframe\n",
    "by merging movied_ids_title and movie_ids_ratings"
   ]
  },
  {
   "cell_type": "code",
   "execution_count": 5,
   "id": "39b23d75",
   "metadata": {},
   "outputs": [
    {
     "data": {
      "text/html": [
       "<div>\n",
       "<style scoped>\n",
       "    .dataframe tbody tr th:only-of-type {\n",
       "        vertical-align: middle;\n",
       "    }\n",
       "\n",
       "    .dataframe tbody tr th {\n",
       "        vertical-align: top;\n",
       "    }\n",
       "\n",
       "    .dataframe thead th {\n",
       "        text-align: right;\n",
       "    }\n",
       "</style>\n",
       "<table border=\"1\" class=\"dataframe\">\n",
       "  <thead>\n",
       "    <tr style=\"text-align: right;\">\n",
       "      <th></th>\n",
       "      <th>userId</th>\n",
       "      <th>movieId</th>\n",
       "      <th>rating</th>\n",
       "    </tr>\n",
       "  </thead>\n",
       "  <tbody>\n",
       "    <tr>\n",
       "      <th>0</th>\n",
       "      <td>1</td>\n",
       "      <td>1</td>\n",
       "      <td>4.0</td>\n",
       "    </tr>\n",
       "    <tr>\n",
       "      <th>1</th>\n",
       "      <td>1</td>\n",
       "      <td>3</td>\n",
       "      <td>4.0</td>\n",
       "    </tr>\n",
       "    <tr>\n",
       "      <th>2</th>\n",
       "      <td>1</td>\n",
       "      <td>6</td>\n",
       "      <td>4.0</td>\n",
       "    </tr>\n",
       "    <tr>\n",
       "      <th>3</th>\n",
       "      <td>1</td>\n",
       "      <td>47</td>\n",
       "      <td>5.0</td>\n",
       "    </tr>\n",
       "    <tr>\n",
       "      <th>4</th>\n",
       "      <td>1</td>\n",
       "      <td>50</td>\n",
       "      <td>5.0</td>\n",
       "    </tr>\n",
       "  </tbody>\n",
       "</table>\n",
       "</div>"
      ],
      "text/plain": [
       "   userId  movieId  rating\n",
       "0       1        1     4.0\n",
       "1       1        3     4.0\n",
       "2       1        6     4.0\n",
       "3       1       47     5.0\n",
       "4       1       50     5.0"
      ]
     },
     "execution_count": 5,
     "metadata": {},
     "output_type": "execute_result"
    }
   ],
   "source": [
    "movie_ids_ratings.drop([\"timestamp\"],inplace=True,axis=1)\n",
    "\n",
    "movie_ids_ratings.head()"
   ]
  },
  {
   "cell_type": "code",
   "execution_count": 6,
   "id": "5db04fe1",
   "metadata": {},
   "outputs": [
    {
     "data": {
      "text/html": [
       "<div>\n",
       "<style scoped>\n",
       "    .dataframe tbody tr th:only-of-type {\n",
       "        vertical-align: middle;\n",
       "    }\n",
       "\n",
       "    .dataframe tbody tr th {\n",
       "        vertical-align: top;\n",
       "    }\n",
       "\n",
       "    .dataframe thead th {\n",
       "        text-align: right;\n",
       "    }\n",
       "</style>\n",
       "<table border=\"1\" class=\"dataframe\">\n",
       "  <thead>\n",
       "    <tr style=\"text-align: right;\">\n",
       "      <th></th>\n",
       "      <th>movieId</th>\n",
       "      <th>title</th>\n",
       "    </tr>\n",
       "  </thead>\n",
       "  <tbody>\n",
       "    <tr>\n",
       "      <th>0</th>\n",
       "      <td>1</td>\n",
       "      <td>Toy Story (1995)</td>\n",
       "    </tr>\n",
       "    <tr>\n",
       "      <th>1</th>\n",
       "      <td>2</td>\n",
       "      <td>Jumanji (1995)</td>\n",
       "    </tr>\n",
       "    <tr>\n",
       "      <th>2</th>\n",
       "      <td>3</td>\n",
       "      <td>Grumpier Old Men (1995)</td>\n",
       "    </tr>\n",
       "    <tr>\n",
       "      <th>3</th>\n",
       "      <td>4</td>\n",
       "      <td>Waiting to Exhale (1995)</td>\n",
       "    </tr>\n",
       "    <tr>\n",
       "      <th>4</th>\n",
       "      <td>5</td>\n",
       "      <td>Father of the Bride Part II (1995)</td>\n",
       "    </tr>\n",
       "  </tbody>\n",
       "</table>\n",
       "</div>"
      ],
      "text/plain": [
       "   movieId                               title\n",
       "0        1                    Toy Story (1995)\n",
       "1        2                      Jumanji (1995)\n",
       "2        3             Grumpier Old Men (1995)\n",
       "3        4            Waiting to Exhale (1995)\n",
       "4        5  Father of the Bride Part II (1995)"
      ]
     },
     "execution_count": 6,
     "metadata": {},
     "output_type": "execute_result"
    }
   ],
   "source": [
    "movie_ids_titles.drop([\"genres\"],inplace=True,axis=1)\n",
    "\n",
    "movie_ids_titles.head()"
   ]
  },
  {
   "cell_type": "code",
   "execution_count": 7,
   "id": "74521a63",
   "metadata": {},
   "outputs": [
    {
     "data": {
      "text/html": [
       "<div>\n",
       "<style scoped>\n",
       "    .dataframe tbody tr th:only-of-type {\n",
       "        vertical-align: middle;\n",
       "    }\n",
       "\n",
       "    .dataframe tbody tr th {\n",
       "        vertical-align: top;\n",
       "    }\n",
       "\n",
       "    .dataframe thead th {\n",
       "        text-align: right;\n",
       "    }\n",
       "</style>\n",
       "<table border=\"1\" class=\"dataframe\">\n",
       "  <thead>\n",
       "    <tr style=\"text-align: right;\">\n",
       "      <th></th>\n",
       "      <th>userId</th>\n",
       "      <th>movieId</th>\n",
       "      <th>rating</th>\n",
       "      <th>title</th>\n",
       "    </tr>\n",
       "  </thead>\n",
       "  <tbody>\n",
       "    <tr>\n",
       "      <th>0</th>\n",
       "      <td>1</td>\n",
       "      <td>1</td>\n",
       "      <td>4.0</td>\n",
       "      <td>Toy Story (1995)</td>\n",
       "    </tr>\n",
       "    <tr>\n",
       "      <th>1</th>\n",
       "      <td>5</td>\n",
       "      <td>1</td>\n",
       "      <td>4.0</td>\n",
       "      <td>Toy Story (1995)</td>\n",
       "    </tr>\n",
       "    <tr>\n",
       "      <th>2</th>\n",
       "      <td>7</td>\n",
       "      <td>1</td>\n",
       "      <td>4.5</td>\n",
       "      <td>Toy Story (1995)</td>\n",
       "    </tr>\n",
       "    <tr>\n",
       "      <th>3</th>\n",
       "      <td>15</td>\n",
       "      <td>1</td>\n",
       "      <td>2.5</td>\n",
       "      <td>Toy Story (1995)</td>\n",
       "    </tr>\n",
       "    <tr>\n",
       "      <th>4</th>\n",
       "      <td>17</td>\n",
       "      <td>1</td>\n",
       "      <td>4.5</td>\n",
       "      <td>Toy Story (1995)</td>\n",
       "    </tr>\n",
       "  </tbody>\n",
       "</table>\n",
       "</div>"
      ],
      "text/plain": [
       "   userId  movieId  rating             title\n",
       "0       1        1     4.0  Toy Story (1995)\n",
       "1       5        1     4.0  Toy Story (1995)\n",
       "2       7        1     4.5  Toy Story (1995)\n",
       "3      15        1     2.5  Toy Story (1995)\n",
       "4      17        1     4.5  Toy Story (1995)"
      ]
     },
     "execution_count": 7,
     "metadata": {},
     "output_type": "execute_result"
    }
   ],
   "source": [
    "merged_movie_df= pd.merge(movie_ids_ratings, movie_ids_titles, on='movieId')\n",
    "\n",
    "merged_movie_df.head()"
   ]
  },
  {
   "cell_type": "markdown",
   "id": "ff43d676",
   "metadata": {},
   "source": [
    "Grouping dataset by title"
   ]
  },
  {
   "cell_type": "code",
   "execution_count": 8,
   "id": "336675d0",
   "metadata": {},
   "outputs": [
    {
     "data": {
      "text/html": [
       "<div>\n",
       "<style scoped>\n",
       "    .dataframe tbody tr th:only-of-type {\n",
       "        vertical-align: middle;\n",
       "    }\n",
       "\n",
       "    .dataframe tbody tr th {\n",
       "        vertical-align: top;\n",
       "    }\n",
       "\n",
       "    .dataframe thead tr th {\n",
       "        text-align: left;\n",
       "    }\n",
       "\n",
       "    .dataframe thead tr:last-of-type th {\n",
       "        text-align: right;\n",
       "    }\n",
       "</style>\n",
       "<table border=\"1\" class=\"dataframe\">\n",
       "  <thead>\n",
       "    <tr>\n",
       "      <th></th>\n",
       "      <th colspan=\"8\" halign=\"left\">userId</th>\n",
       "      <th colspan=\"5\" halign=\"left\">movieId</th>\n",
       "      <th colspan=\"8\" halign=\"left\">rating</th>\n",
       "    </tr>\n",
       "    <tr>\n",
       "      <th></th>\n",
       "      <th>count</th>\n",
       "      <th>mean</th>\n",
       "      <th>std</th>\n",
       "      <th>min</th>\n",
       "      <th>25%</th>\n",
       "      <th>50%</th>\n",
       "      <th>75%</th>\n",
       "      <th>max</th>\n",
       "      <th>count</th>\n",
       "      <th>mean</th>\n",
       "      <th>...</th>\n",
       "      <th>75%</th>\n",
       "      <th>max</th>\n",
       "      <th>count</th>\n",
       "      <th>mean</th>\n",
       "      <th>std</th>\n",
       "      <th>min</th>\n",
       "      <th>25%</th>\n",
       "      <th>50%</th>\n",
       "      <th>75%</th>\n",
       "      <th>max</th>\n",
       "    </tr>\n",
       "    <tr>\n",
       "      <th>title</th>\n",
       "      <th></th>\n",
       "      <th></th>\n",
       "      <th></th>\n",
       "      <th></th>\n",
       "      <th></th>\n",
       "      <th></th>\n",
       "      <th></th>\n",
       "      <th></th>\n",
       "      <th></th>\n",
       "      <th></th>\n",
       "      <th></th>\n",
       "      <th></th>\n",
       "      <th></th>\n",
       "      <th></th>\n",
       "      <th></th>\n",
       "      <th></th>\n",
       "      <th></th>\n",
       "      <th></th>\n",
       "      <th></th>\n",
       "      <th></th>\n",
       "      <th></th>\n",
       "    </tr>\n",
       "  </thead>\n",
       "  <tbody>\n",
       "    <tr>\n",
       "      <th>'71 (2014)</th>\n",
       "      <td>1.0</td>\n",
       "      <td>610.000000</td>\n",
       "      <td>NaN</td>\n",
       "      <td>610.0</td>\n",
       "      <td>610.00</td>\n",
       "      <td>610.0</td>\n",
       "      <td>610.00</td>\n",
       "      <td>610.0</td>\n",
       "      <td>1.0</td>\n",
       "      <td>117867.0</td>\n",
       "      <td>...</td>\n",
       "      <td>117867.0</td>\n",
       "      <td>117867.0</td>\n",
       "      <td>1.0</td>\n",
       "      <td>4.000000</td>\n",
       "      <td>NaN</td>\n",
       "      <td>4.0</td>\n",
       "      <td>4.000</td>\n",
       "      <td>4.0</td>\n",
       "      <td>4.000</td>\n",
       "      <td>4.0</td>\n",
       "    </tr>\n",
       "    <tr>\n",
       "      <th>'Hellboy': The Seeds of Creation (2004)</th>\n",
       "      <td>1.0</td>\n",
       "      <td>332.000000</td>\n",
       "      <td>NaN</td>\n",
       "      <td>332.0</td>\n",
       "      <td>332.00</td>\n",
       "      <td>332.0</td>\n",
       "      <td>332.00</td>\n",
       "      <td>332.0</td>\n",
       "      <td>1.0</td>\n",
       "      <td>97757.0</td>\n",
       "      <td>...</td>\n",
       "      <td>97757.0</td>\n",
       "      <td>97757.0</td>\n",
       "      <td>1.0</td>\n",
       "      <td>4.000000</td>\n",
       "      <td>NaN</td>\n",
       "      <td>4.0</td>\n",
       "      <td>4.000</td>\n",
       "      <td>4.0</td>\n",
       "      <td>4.000</td>\n",
       "      <td>4.0</td>\n",
       "    </tr>\n",
       "    <tr>\n",
       "      <th>'Round Midnight (1986)</th>\n",
       "      <td>2.0</td>\n",
       "      <td>354.500000</td>\n",
       "      <td>31.819805</td>\n",
       "      <td>332.0</td>\n",
       "      <td>343.25</td>\n",
       "      <td>354.5</td>\n",
       "      <td>365.75</td>\n",
       "      <td>377.0</td>\n",
       "      <td>2.0</td>\n",
       "      <td>26564.0</td>\n",
       "      <td>...</td>\n",
       "      <td>26564.0</td>\n",
       "      <td>26564.0</td>\n",
       "      <td>2.0</td>\n",
       "      <td>3.500000</td>\n",
       "      <td>0.000000</td>\n",
       "      <td>3.5</td>\n",
       "      <td>3.500</td>\n",
       "      <td>3.5</td>\n",
       "      <td>3.500</td>\n",
       "      <td>3.5</td>\n",
       "    </tr>\n",
       "    <tr>\n",
       "      <th>'Salem's Lot (2004)</th>\n",
       "      <td>1.0</td>\n",
       "      <td>345.000000</td>\n",
       "      <td>NaN</td>\n",
       "      <td>345.0</td>\n",
       "      <td>345.00</td>\n",
       "      <td>345.0</td>\n",
       "      <td>345.00</td>\n",
       "      <td>345.0</td>\n",
       "      <td>1.0</td>\n",
       "      <td>27751.0</td>\n",
       "      <td>...</td>\n",
       "      <td>27751.0</td>\n",
       "      <td>27751.0</td>\n",
       "      <td>1.0</td>\n",
       "      <td>5.000000</td>\n",
       "      <td>NaN</td>\n",
       "      <td>5.0</td>\n",
       "      <td>5.000</td>\n",
       "      <td>5.0</td>\n",
       "      <td>5.000</td>\n",
       "      <td>5.0</td>\n",
       "    </tr>\n",
       "    <tr>\n",
       "      <th>'Til There Was You (1997)</th>\n",
       "      <td>2.0</td>\n",
       "      <td>229.000000</td>\n",
       "      <td>164.048773</td>\n",
       "      <td>113.0</td>\n",
       "      <td>171.00</td>\n",
       "      <td>229.0</td>\n",
       "      <td>287.00</td>\n",
       "      <td>345.0</td>\n",
       "      <td>2.0</td>\n",
       "      <td>779.0</td>\n",
       "      <td>...</td>\n",
       "      <td>779.0</td>\n",
       "      <td>779.0</td>\n",
       "      <td>2.0</td>\n",
       "      <td>4.000000</td>\n",
       "      <td>1.414214</td>\n",
       "      <td>3.0</td>\n",
       "      <td>3.500</td>\n",
       "      <td>4.0</td>\n",
       "      <td>4.500</td>\n",
       "      <td>5.0</td>\n",
       "    </tr>\n",
       "    <tr>\n",
       "      <th>...</th>\n",
       "      <td>...</td>\n",
       "      <td>...</td>\n",
       "      <td>...</td>\n",
       "      <td>...</td>\n",
       "      <td>...</td>\n",
       "      <td>...</td>\n",
       "      <td>...</td>\n",
       "      <td>...</td>\n",
       "      <td>...</td>\n",
       "      <td>...</td>\n",
       "      <td>...</td>\n",
       "      <td>...</td>\n",
       "      <td>...</td>\n",
       "      <td>...</td>\n",
       "      <td>...</td>\n",
       "      <td>...</td>\n",
       "      <td>...</td>\n",
       "      <td>...</td>\n",
       "      <td>...</td>\n",
       "      <td>...</td>\n",
       "      <td>...</td>\n",
       "    </tr>\n",
       "    <tr>\n",
       "      <th>eXistenZ (1999)</th>\n",
       "      <td>22.0</td>\n",
       "      <td>389.954545</td>\n",
       "      <td>167.161022</td>\n",
       "      <td>95.0</td>\n",
       "      <td>278.25</td>\n",
       "      <td>419.5</td>\n",
       "      <td>509.25</td>\n",
       "      <td>608.0</td>\n",
       "      <td>22.0</td>\n",
       "      <td>2600.0</td>\n",
       "      <td>...</td>\n",
       "      <td>2600.0</td>\n",
       "      <td>2600.0</td>\n",
       "      <td>22.0</td>\n",
       "      <td>3.863636</td>\n",
       "      <td>0.804479</td>\n",
       "      <td>2.0</td>\n",
       "      <td>3.500</td>\n",
       "      <td>4.0</td>\n",
       "      <td>4.375</td>\n",
       "      <td>5.0</td>\n",
       "    </tr>\n",
       "    <tr>\n",
       "      <th>xXx (2002)</th>\n",
       "      <td>24.0</td>\n",
       "      <td>272.916667</td>\n",
       "      <td>174.297576</td>\n",
       "      <td>9.0</td>\n",
       "      <td>131.25</td>\n",
       "      <td>240.5</td>\n",
       "      <td>418.50</td>\n",
       "      <td>610.0</td>\n",
       "      <td>24.0</td>\n",
       "      <td>5507.0</td>\n",
       "      <td>...</td>\n",
       "      <td>5507.0</td>\n",
       "      <td>5507.0</td>\n",
       "      <td>24.0</td>\n",
       "      <td>2.770833</td>\n",
       "      <td>0.966607</td>\n",
       "      <td>0.5</td>\n",
       "      <td>2.375</td>\n",
       "      <td>3.0</td>\n",
       "      <td>3.500</td>\n",
       "      <td>4.0</td>\n",
       "    </tr>\n",
       "    <tr>\n",
       "      <th>xXx: State of the Union (2005)</th>\n",
       "      <td>5.0</td>\n",
       "      <td>386.000000</td>\n",
       "      <td>148.801882</td>\n",
       "      <td>232.0</td>\n",
       "      <td>274.00</td>\n",
       "      <td>382.0</td>\n",
       "      <td>432.00</td>\n",
       "      <td>610.0</td>\n",
       "      <td>5.0</td>\n",
       "      <td>33158.0</td>\n",
       "      <td>...</td>\n",
       "      <td>33158.0</td>\n",
       "      <td>33158.0</td>\n",
       "      <td>5.0</td>\n",
       "      <td>2.000000</td>\n",
       "      <td>0.500000</td>\n",
       "      <td>1.5</td>\n",
       "      <td>1.500</td>\n",
       "      <td>2.0</td>\n",
       "      <td>2.500</td>\n",
       "      <td>2.5</td>\n",
       "    </tr>\n",
       "    <tr>\n",
       "      <th>¡Three Amigos! (1986)</th>\n",
       "      <td>26.0</td>\n",
       "      <td>279.807692</td>\n",
       "      <td>193.794947</td>\n",
       "      <td>1.0</td>\n",
       "      <td>101.25</td>\n",
       "      <td>260.5</td>\n",
       "      <td>441.25</td>\n",
       "      <td>599.0</td>\n",
       "      <td>26.0</td>\n",
       "      <td>2478.0</td>\n",
       "      <td>...</td>\n",
       "      <td>2478.0</td>\n",
       "      <td>2478.0</td>\n",
       "      <td>26.0</td>\n",
       "      <td>3.134615</td>\n",
       "      <td>0.944009</td>\n",
       "      <td>1.0</td>\n",
       "      <td>2.500</td>\n",
       "      <td>3.0</td>\n",
       "      <td>3.875</td>\n",
       "      <td>5.0</td>\n",
       "    </tr>\n",
       "    <tr>\n",
       "      <th>À nous la liberté (Freedom for Us) (1931)</th>\n",
       "      <td>1.0</td>\n",
       "      <td>527.000000</td>\n",
       "      <td>NaN</td>\n",
       "      <td>527.0</td>\n",
       "      <td>527.00</td>\n",
       "      <td>527.0</td>\n",
       "      <td>527.00</td>\n",
       "      <td>527.0</td>\n",
       "      <td>1.0</td>\n",
       "      <td>5560.0</td>\n",
       "      <td>...</td>\n",
       "      <td>5560.0</td>\n",
       "      <td>5560.0</td>\n",
       "      <td>1.0</td>\n",
       "      <td>1.000000</td>\n",
       "      <td>NaN</td>\n",
       "      <td>1.0</td>\n",
       "      <td>1.000</td>\n",
       "      <td>1.0</td>\n",
       "      <td>1.000</td>\n",
       "      <td>1.0</td>\n",
       "    </tr>\n",
       "  </tbody>\n",
       "</table>\n",
       "<p>9719 rows × 24 columns</p>\n",
       "</div>"
      ],
      "text/plain": [
       "                                          userId                          \\\n",
       "                                           count        mean         std   \n",
       "title                                                                      \n",
       "'71 (2014)                                   1.0  610.000000         NaN   \n",
       "'Hellboy': The Seeds of Creation (2004)      1.0  332.000000         NaN   \n",
       "'Round Midnight (1986)                       2.0  354.500000   31.819805   \n",
       "'Salem's Lot (2004)                          1.0  345.000000         NaN   \n",
       "'Til There Was You (1997)                    2.0  229.000000  164.048773   \n",
       "...                                          ...         ...         ...   \n",
       "eXistenZ (1999)                             22.0  389.954545  167.161022   \n",
       "xXx (2002)                                  24.0  272.916667  174.297576   \n",
       "xXx: State of the Union (2005)               5.0  386.000000  148.801882   \n",
       "¡Three Amigos! (1986)                       26.0  279.807692  193.794947   \n",
       "À nous la liberté (Freedom for Us) (1931)    1.0  527.000000         NaN   \n",
       "\n",
       "                                                                         \\\n",
       "                                             min     25%    50%     75%   \n",
       "title                                                                     \n",
       "'71 (2014)                                 610.0  610.00  610.0  610.00   \n",
       "'Hellboy': The Seeds of Creation (2004)    332.0  332.00  332.0  332.00   \n",
       "'Round Midnight (1986)                     332.0  343.25  354.5  365.75   \n",
       "'Salem's Lot (2004)                        345.0  345.00  345.0  345.00   \n",
       "'Til There Was You (1997)                  113.0  171.00  229.0  287.00   \n",
       "...                                          ...     ...    ...     ...   \n",
       "eXistenZ (1999)                             95.0  278.25  419.5  509.25   \n",
       "xXx (2002)                                   9.0  131.25  240.5  418.50   \n",
       "xXx: State of the Union (2005)             232.0  274.00  382.0  432.00   \n",
       "¡Three Amigos! (1986)                        1.0  101.25  260.5  441.25   \n",
       "À nous la liberté (Freedom for Us) (1931)  527.0  527.00  527.0  527.00   \n",
       "\n",
       "                                                 movieId            ...  \\\n",
       "                                             max   count      mean  ...   \n",
       "title                                                               ...   \n",
       "'71 (2014)                                 610.0     1.0  117867.0  ...   \n",
       "'Hellboy': The Seeds of Creation (2004)    332.0     1.0   97757.0  ...   \n",
       "'Round Midnight (1986)                     377.0     2.0   26564.0  ...   \n",
       "'Salem's Lot (2004)                        345.0     1.0   27751.0  ...   \n",
       "'Til There Was You (1997)                  345.0     2.0     779.0  ...   \n",
       "...                                          ...     ...       ...  ...   \n",
       "eXistenZ (1999)                            608.0    22.0    2600.0  ...   \n",
       "xXx (2002)                                 610.0    24.0    5507.0  ...   \n",
       "xXx: State of the Union (2005)             610.0     5.0   33158.0  ...   \n",
       "¡Three Amigos! (1986)                      599.0    26.0    2478.0  ...   \n",
       "À nous la liberté (Freedom for Us) (1931)  527.0     1.0    5560.0  ...   \n",
       "\n",
       "                                                              rating  \\\n",
       "                                                75%       max  count   \n",
       "title                                                                  \n",
       "'71 (2014)                                 117867.0  117867.0    1.0   \n",
       "'Hellboy': The Seeds of Creation (2004)     97757.0   97757.0    1.0   \n",
       "'Round Midnight (1986)                      26564.0   26564.0    2.0   \n",
       "'Salem's Lot (2004)                         27751.0   27751.0    1.0   \n",
       "'Til There Was You (1997)                     779.0     779.0    2.0   \n",
       "...                                             ...       ...    ...   \n",
       "eXistenZ (1999)                              2600.0    2600.0   22.0   \n",
       "xXx (2002)                                   5507.0    5507.0   24.0   \n",
       "xXx: State of the Union (2005)              33158.0   33158.0    5.0   \n",
       "¡Three Amigos! (1986)                        2478.0    2478.0   26.0   \n",
       "À nous la liberté (Freedom for Us) (1931)    5560.0    5560.0    1.0   \n",
       "\n",
       "                                                                           \\\n",
       "                                               mean       std  min    25%   \n",
       "title                                                                       \n",
       "'71 (2014)                                 4.000000       NaN  4.0  4.000   \n",
       "'Hellboy': The Seeds of Creation (2004)    4.000000       NaN  4.0  4.000   \n",
       "'Round Midnight (1986)                     3.500000  0.000000  3.5  3.500   \n",
       "'Salem's Lot (2004)                        5.000000       NaN  5.0  5.000   \n",
       "'Til There Was You (1997)                  4.000000  1.414214  3.0  3.500   \n",
       "...                                             ...       ...  ...    ...   \n",
       "eXistenZ (1999)                            3.863636  0.804479  2.0  3.500   \n",
       "xXx (2002)                                 2.770833  0.966607  0.5  2.375   \n",
       "xXx: State of the Union (2005)             2.000000  0.500000  1.5  1.500   \n",
       "¡Three Amigos! (1986)                      3.134615  0.944009  1.0  2.500   \n",
       "À nous la liberté (Freedom for Us) (1931)  1.000000       NaN  1.0  1.000   \n",
       "\n",
       "                                                            \n",
       "                                           50%    75%  max  \n",
       "title                                                       \n",
       "'71 (2014)                                 4.0  4.000  4.0  \n",
       "'Hellboy': The Seeds of Creation (2004)    4.0  4.000  4.0  \n",
       "'Round Midnight (1986)                     3.5  3.500  3.5  \n",
       "'Salem's Lot (2004)                        5.0  5.000  5.0  \n",
       "'Til There Was You (1997)                  4.0  4.500  5.0  \n",
       "...                                        ...    ...  ...  \n",
       "eXistenZ (1999)                            4.0  4.375  5.0  \n",
       "xXx (2002)                                 3.0  3.500  4.0  \n",
       "xXx: State of the Union (2005)             2.0  2.500  2.5  \n",
       "¡Three Amigos! (1986)                      3.0  3.875  5.0  \n",
       "À nous la liberté (Freedom for Us) (1931)  1.0  1.000  1.0  \n",
       "\n",
       "[9719 rows x 24 columns]"
      ]
     },
     "execution_count": 8,
     "metadata": {},
     "output_type": "execute_result"
    }
   ],
   "source": [
    "merged_movie_df.groupby('title').describe()"
   ]
  },
  {
   "cell_type": "code",
   "execution_count": 9,
   "id": "dba4b47c",
   "metadata": {},
   "outputs": [
    {
     "data": {
      "text/plain": [
       "title\n",
       "'71 (2014)                                 4.0\n",
       "'Hellboy': The Seeds of Creation (2004)    4.0\n",
       "'Round Midnight (1986)                     3.5\n",
       "'Salem's Lot (2004)                        5.0\n",
       "'Til There Was You (1997)                  4.0\n",
       "Name: rating, dtype: float64"
      ]
     },
     "execution_count": 9,
     "metadata": {},
     "output_type": "execute_result"
    }
   ],
   "source": [
    "merged_movie_df.groupby('title')['rating'].mean().head()"
   ]
  },
  {
   "cell_type": "markdown",
   "id": "036391e8",
   "metadata": {},
   "source": [
    "Sort the movie title by the ascending order of the average user ratings"
   ]
  },
  {
   "cell_type": "code",
   "execution_count": 10,
   "id": "09b02765",
   "metadata": {},
   "outputs": [
    {
     "data": {
      "text/plain": [
       "title\n",
       "Gena the Crocodile (1969)              5.0\n",
       "True Stories (1986)                    5.0\n",
       "Cosmic Scrat-tastrophe (2015)          5.0\n",
       "Love and Pigeons (1985)                5.0\n",
       "Red Sorghum (Hong gao liang) (1987)    5.0\n",
       "Name: rating, dtype: float64"
      ]
     },
     "execution_count": 10,
     "metadata": {},
     "output_type": "execute_result"
    }
   ],
   "source": [
    "merged_movie_df.groupby('title')['rating'].mean().sort_values(ascending=False).head()"
   ]
  },
  {
   "cell_type": "markdown",
   "id": "bf572d5b",
   "metadata": {},
   "source": [
    "Print the movies in the descending order of their ratings counts\n",
    "\n"
   ]
  },
  {
   "cell_type": "code",
   "execution_count": 11,
   "id": "82329182",
   "metadata": {},
   "outputs": [
    {
     "data": {
      "text/plain": [
       "title\n",
       "Forrest Gump (1994)                 329\n",
       "Shawshank Redemption, The (1994)    317\n",
       "Pulp Fiction (1994)                 307\n",
       "Silence of the Lambs, The (1991)    279\n",
       "Matrix, The (1999)                  278\n",
       "Name: rating, dtype: int64"
      ]
     },
     "execution_count": 11,
     "metadata": {},
     "output_type": "execute_result"
    }
   ],
   "source": [
    "merged_movie_df.groupby('title')['rating'].count().sort_values(ascending=False).head()"
   ]
  },
  {
   "cell_type": "markdown",
   "id": "9cc46389",
   "metadata": {},
   "source": [
    "A movie which is rated by large number of peole is usually a good movie\n",
    "\n",
    "Let's create a new dataframe that shows the title, mean rating and the rating counts."
   ]
  },
  {
   "cell_type": "code",
   "execution_count": 12,
   "id": "bc68434c",
   "metadata": {},
   "outputs": [
    {
     "data": {
      "text/html": [
       "<div>\n",
       "<style scoped>\n",
       "    .dataframe tbody tr th:only-of-type {\n",
       "        vertical-align: middle;\n",
       "    }\n",
       "\n",
       "    .dataframe tbody tr th {\n",
       "        vertical-align: top;\n",
       "    }\n",
       "\n",
       "    .dataframe thead th {\n",
       "        text-align: right;\n",
       "    }\n",
       "</style>\n",
       "<table border=\"1\" class=\"dataframe\">\n",
       "  <thead>\n",
       "    <tr style=\"text-align: right;\">\n",
       "      <th></th>\n",
       "      <th>rating_mean</th>\n",
       "      <th>rating_count</th>\n",
       "    </tr>\n",
       "    <tr>\n",
       "      <th>title</th>\n",
       "      <th></th>\n",
       "      <th></th>\n",
       "    </tr>\n",
       "  </thead>\n",
       "  <tbody>\n",
       "    <tr>\n",
       "      <th>'71 (2014)</th>\n",
       "      <td>4.0</td>\n",
       "      <td>1</td>\n",
       "    </tr>\n",
       "    <tr>\n",
       "      <th>'Hellboy': The Seeds of Creation (2004)</th>\n",
       "      <td>4.0</td>\n",
       "      <td>1</td>\n",
       "    </tr>\n",
       "    <tr>\n",
       "      <th>'Round Midnight (1986)</th>\n",
       "      <td>3.5</td>\n",
       "      <td>2</td>\n",
       "    </tr>\n",
       "    <tr>\n",
       "      <th>'Salem's Lot (2004)</th>\n",
       "      <td>5.0</td>\n",
       "      <td>1</td>\n",
       "    </tr>\n",
       "    <tr>\n",
       "      <th>'Til There Was You (1997)</th>\n",
       "      <td>4.0</td>\n",
       "      <td>2</td>\n",
       "    </tr>\n",
       "  </tbody>\n",
       "</table>\n",
       "</div>"
      ],
      "text/plain": [
       "                                         rating_mean  rating_count\n",
       "title                                                             \n",
       "'71 (2014)                                       4.0             1\n",
       "'Hellboy': The Seeds of Creation (2004)          4.0             1\n",
       "'Round Midnight (1986)                           3.5             2\n",
       "'Salem's Lot (2004)                              5.0             1\n",
       "'Til There Was You (1997)                        4.0             2"
      ]
     },
     "execution_count": 12,
     "metadata": {},
     "output_type": "execute_result"
    }
   ],
   "source": [
    "movie_rating_mean_count= pd.DataFrame(columns=['rating_mean','rating_count'])\n",
    "\n",
    "movie_rating_mean_count['rating_mean']= merged_movie_df.groupby('title')['rating'].mean()\n",
    "\n",
    "movie_rating_mean_count['rating_count']=merged_movie_df.groupby('title')['rating'].count()\n",
    "\n",
    "movie_rating_mean_count.head()"
   ]
  },
  {
   "cell_type": "markdown",
   "id": "562fc45b",
   "metadata": {},
   "source": [
    "The above dataframe contains movie title, average ratings and the number of rating counts\n",
    "\n",
    "We will plot a histogram to see how average ratings are distributed"
   ]
  },
  {
   "cell_type": "code",
   "execution_count": 13,
   "id": "22de63a8",
   "metadata": {},
   "outputs": [
    {
     "data": {
      "text/plain": [
       "<AxesSubplot:>"
      ]
     },
     "execution_count": 13,
     "metadata": {},
     "output_type": "execute_result"
    },
    {
     "data": {
      "image/png": "[encoded data removed]",
      "text/plain": [
       "<Figure size 720x576 with 1 Axes>"
      ]
     },
     "metadata": {
      "needs_background": "light"
     },
     "output_type": "display_data"
    }
   ],
   "source": [
    "plt.figure(figsize=(10,8))\n",
    "sns.set_style(\"darkgrid\")\n",
    "\n",
    "movie_rating_mean_count['rating_mean'].hist(bins=30, color='purple')"
   ]
  },
  {
   "cell_type": "markdown",
   "id": "df09584a",
   "metadata": {},
   "source": [
    "In the above output most of the movies have an average rating between 3 and 4"
   ]
  },
  {
   "cell_type": "markdown",
   "id": "44ce04fc",
   "metadata": {},
   "source": [
    "Distribution for rating counts"
   ]
  },
  {
   "cell_type": "code",
   "execution_count": 14,
   "id": "ad2d639d",
   "metadata": {},
   "outputs": [
    {
     "data": {
      "text/plain": [
       "<AxesSubplot:>"
      ]
     },
     "execution_count": 14,
     "metadata": {},
     "output_type": "execute_result"
    },
    {
     "data": {
      "image/png": "[encoded data removed]",
      "text/plain": [
       "<Figure size 720x576 with 1 Axes>"
      ]
     },
     "metadata": {},
     "output_type": "display_data"
    }
   ],
   "source": [
    "plt.figure(figsize=(10,8))\n",
    "sns.set_style(\"darkgrid\")\n",
    "\n",
    "movie_rating_mean_count[\"rating_count\"].hist(bins=33, color=\"green\")"
   ]
  },
  {
   "cell_type": "markdown",
   "id": "d4443e30",
   "metadata": {},
   "source": [
    "In the above output, there are 7,000 movies with less than 10 rating counts. The number of movies decrease with an increase\n",
    "in rating counts. Movies with more than 50 ratings are very few."
   ]
  },
  {
   "cell_type": "code",
   "execution_count": 15,
   "id": "c820dafe",
   "metadata": {},
   "outputs": [
    {
     "data": {
      "text/plain": [
       "<AxesSubplot:xlabel='rating_mean', ylabel='rating_count'>"
      ]
     },
     "execution_count": 15,
     "metadata": {},
     "output_type": "execute_result"
    },
    {
     "data": {
      "image/png": "[encoded data removed]",
      "text/plain": [
       "<Figure size 720x576 with 1 Axes>"
      ]
     },
     "metadata": {},
     "output_type": "display_data"
    }
   ],
   "source": [
    "plt.figure(figsize=(10,8))\n",
    "sns.set_style(\"darkgrid\")\n",
    "sns.regplot(x=\"rating_mean\",y=\"rating_count\", data=movie_rating_mean_count, color=\"brown\")"
   ]
  },
  {
   "cell_type": "markdown",
   "id": "ae6c1956",
   "metadata": {},
   "source": [
    "The movies with a higher number of rating counts tend to have higher mean ratings as well"
   ]
  },
  {
   "cell_type": "markdown",
   "id": "abf0fe8c",
   "metadata": {},
   "source": [
    "# Item Based Collaborative Filtering"
   ]
  },
  {
   "cell_type": "markdown",
   "id": "1c27ee77",
   "metadata": {},
   "source": [
    "In item based collaborative filtering, products are recommended based on common characterisitcs.\n",
    "\n",
    "In our dataset we have average ratings for different movies given by different users. We will use\n",
    "the average ratings as the common characteristic of the collaborative filtering of movies.\n",
    "\n",
    "The first step is to create a dataframe where each movie is represented by a column and rows contain user ratings for \n",
    "movies."
   ]
  },
  {
   "cell_type": "code",
   "execution_count": 16,
   "id": "58ea26ad",
   "metadata": {},
   "outputs": [
    {
     "data": {
      "text/html": [
       "<div>\n",
       "<style scoped>\n",
       "    .dataframe tbody tr th:only-of-type {\n",
       "        vertical-align: middle;\n",
       "    }\n",
       "\n",
       "    .dataframe tbody tr th {\n",
       "        vertical-align: top;\n",
       "    }\n",
       "\n",
       "    .dataframe thead th {\n",
       "        text-align: right;\n",
       "    }\n",
       "</style>\n",
       "<table border=\"1\" class=\"dataframe\">\n",
       "  <thead>\n",
       "    <tr style=\"text-align: right;\">\n",
       "      <th>title</th>\n",
       "      <th>'71 (2014)</th>\n",
       "      <th>'Hellboy': The Seeds of Creation (2004)</th>\n",
       "      <th>'Round Midnight (1986)</th>\n",
       "      <th>'Salem's Lot (2004)</th>\n",
       "      <th>'Til There Was You (1997)</th>\n",
       "      <th>'Tis the Season for Love (2015)</th>\n",
       "      <th>'burbs, The (1989)</th>\n",
       "      <th>'night Mother (1986)</th>\n",
       "      <th>(500) Days of Summer (2009)</th>\n",
       "      <th>*batteries not included (1987)</th>\n",
       "      <th>...</th>\n",
       "      <th>Zulu (2013)</th>\n",
       "      <th>[REC] (2007)</th>\n",
       "      <th>[REC]² (2009)</th>\n",
       "      <th>[REC]³ 3 Génesis (2012)</th>\n",
       "      <th>anohana: The Flower We Saw That Day - The Movie (2013)</th>\n",
       "      <th>eXistenZ (1999)</th>\n",
       "      <th>xXx (2002)</th>\n",
       "      <th>xXx: State of the Union (2005)</th>\n",
       "      <th>¡Three Amigos! (1986)</th>\n",
       "      <th>À nous la liberté (Freedom for Us) (1931)</th>\n",
       "    </tr>\n",
       "    <tr>\n",
       "      <th>userId</th>\n",
       "      <th></th>\n",
       "      <th></th>\n",
       "      <th></th>\n",
       "      <th></th>\n",
       "      <th></th>\n",
       "      <th></th>\n",
       "      <th></th>\n",
       "      <th></th>\n",
       "      <th></th>\n",
       "      <th></th>\n",
       "      <th></th>\n",
       "      <th></th>\n",
       "      <th></th>\n",
       "      <th></th>\n",
       "      <th></th>\n",
       "      <th></th>\n",
       "      <th></th>\n",
       "      <th></th>\n",
       "      <th></th>\n",
       "      <th></th>\n",
       "      <th></th>\n",
       "    </tr>\n",
       "  </thead>\n",
       "  <tbody>\n",
       "    <tr>\n",
       "      <th>1</th>\n",
       "      <td>NaN</td>\n",
       "      <td>NaN</td>\n",
       "      <td>NaN</td>\n",
       "      <td>NaN</td>\n",
       "      <td>NaN</td>\n",
       "      <td>NaN</td>\n",
       "      <td>NaN</td>\n",
       "      <td>NaN</td>\n",
       "      <td>NaN</td>\n",
       "      <td>NaN</td>\n",
       "      <td>...</td>\n",
       "      <td>NaN</td>\n",
       "      <td>NaN</td>\n",
       "      <td>NaN</td>\n",
       "      <td>NaN</td>\n",
       "      <td>NaN</td>\n",
       "      <td>NaN</td>\n",
       "      <td>NaN</td>\n",
       "      <td>NaN</td>\n",
       "      <td>4.0</td>\n",
       "      <td>NaN</td>\n",
       "    </tr>\n",
       "    <tr>\n",
       "      <th>2</th>\n",
       "      <td>NaN</td>\n",
       "      <td>NaN</td>\n",
       "      <td>NaN</td>\n",
       "      <td>NaN</td>\n",
       "      <td>NaN</td>\n",
       "      <td>NaN</td>\n",
       "      <td>NaN</td>\n",
       "      <td>NaN</td>\n",
       "      <td>NaN</td>\n",
       "      <td>NaN</td>\n",
       "      <td>...</td>\n",
       "      <td>NaN</td>\n",
       "      <td>NaN</td>\n",
       "      <td>NaN</td>\n",
       "      <td>NaN</td>\n",
       "      <td>NaN</td>\n",
       "      <td>NaN</td>\n",
       "      <td>NaN</td>\n",
       "      <td>NaN</td>\n",
       "      <td>NaN</td>\n",
       "      <td>NaN</td>\n",
       "    </tr>\n",
       "    <tr>\n",
       "      <th>3</th>\n",
       "      <td>NaN</td>\n",
       "      <td>NaN</td>\n",
       "      <td>NaN</td>\n",
       "      <td>NaN</td>\n",
       "      <td>NaN</td>\n",
       "      <td>NaN</td>\n",
       "      <td>NaN</td>\n",
       "      <td>NaN</td>\n",
       "      <td>NaN</td>\n",
       "      <td>NaN</td>\n",
       "      <td>...</td>\n",
       "      <td>NaN</td>\n",
       "      <td>NaN</td>\n",
       "      <td>NaN</td>\n",
       "      <td>NaN</td>\n",
       "      <td>NaN</td>\n",
       "      <td>NaN</td>\n",
       "      <td>NaN</td>\n",
       "      <td>NaN</td>\n",
       "      <td>NaN</td>\n",
       "      <td>NaN</td>\n",
       "    </tr>\n",
       "    <tr>\n",
       "      <th>4</th>\n",
       "      <td>NaN</td>\n",
       "      <td>NaN</td>\n",
       "      <td>NaN</td>\n",
       "      <td>NaN</td>\n",
       "      <td>NaN</td>\n",
       "      <td>NaN</td>\n",
       "      <td>NaN</td>\n",
       "      <td>NaN</td>\n",
       "      <td>NaN</td>\n",
       "      <td>NaN</td>\n",
       "      <td>...</td>\n",
       "      <td>NaN</td>\n",
       "      <td>NaN</td>\n",
       "      <td>NaN</td>\n",
       "      <td>NaN</td>\n",
       "      <td>NaN</td>\n",
       "      <td>NaN</td>\n",
       "      <td>NaN</td>\n",
       "      <td>NaN</td>\n",
       "      <td>NaN</td>\n",
       "      <td>NaN</td>\n",
       "    </tr>\n",
       "    <tr>\n",
       "      <th>5</th>\n",
       "      <td>NaN</td>\n",
       "      <td>NaN</td>\n",
       "      <td>NaN</td>\n",
       "      <td>NaN</td>\n",
       "      <td>NaN</td>\n",
       "      <td>NaN</td>\n",
       "      <td>NaN</td>\n",
       "      <td>NaN</td>\n",
       "      <td>NaN</td>\n",
       "      <td>NaN</td>\n",
       "      <td>...</td>\n",
       "      <td>NaN</td>\n",
       "      <td>NaN</td>\n",
       "      <td>NaN</td>\n",
       "      <td>NaN</td>\n",
       "      <td>NaN</td>\n",
       "      <td>NaN</td>\n",
       "      <td>NaN</td>\n",
       "      <td>NaN</td>\n",
       "      <td>NaN</td>\n",
       "      <td>NaN</td>\n",
       "    </tr>\n",
       "    <tr>\n",
       "      <th>...</th>\n",
       "      <td>...</td>\n",
       "      <td>...</td>\n",
       "      <td>...</td>\n",
       "      <td>...</td>\n",
       "      <td>...</td>\n",
       "      <td>...</td>\n",
       "      <td>...</td>\n",
       "      <td>...</td>\n",
       "      <td>...</td>\n",
       "      <td>...</td>\n",
       "      <td>...</td>\n",
       "      <td>...</td>\n",
       "      <td>...</td>\n",
       "      <td>...</td>\n",
       "      <td>...</td>\n",
       "      <td>...</td>\n",
       "      <td>...</td>\n",
       "      <td>...</td>\n",
       "      <td>...</td>\n",
       "      <td>...</td>\n",
       "      <td>...</td>\n",
       "    </tr>\n",
       "    <tr>\n",
       "      <th>606</th>\n",
       "      <td>NaN</td>\n",
       "      <td>NaN</td>\n",
       "      <td>NaN</td>\n",
       "      <td>NaN</td>\n",
       "      <td>NaN</td>\n",
       "      <td>NaN</td>\n",
       "      <td>NaN</td>\n",
       "      <td>NaN</td>\n",
       "      <td>NaN</td>\n",
       "      <td>NaN</td>\n",
       "      <td>...</td>\n",
       "      <td>NaN</td>\n",
       "      <td>NaN</td>\n",
       "      <td>NaN</td>\n",
       "      <td>NaN</td>\n",
       "      <td>NaN</td>\n",
       "      <td>NaN</td>\n",
       "      <td>NaN</td>\n",
       "      <td>NaN</td>\n",
       "      <td>NaN</td>\n",
       "      <td>NaN</td>\n",
       "    </tr>\n",
       "    <tr>\n",
       "      <th>607</th>\n",
       "      <td>NaN</td>\n",
       "      <td>NaN</td>\n",
       "      <td>NaN</td>\n",
       "      <td>NaN</td>\n",
       "      <td>NaN</td>\n",
       "      <td>NaN</td>\n",
       "      <td>NaN</td>\n",
       "      <td>NaN</td>\n",
       "      <td>NaN</td>\n",
       "      <td>NaN</td>\n",
       "      <td>...</td>\n",
       "      <td>NaN</td>\n",
       "      <td>NaN</td>\n",
       "      <td>NaN</td>\n",
       "      <td>NaN</td>\n",
       "      <td>NaN</td>\n",
       "      <td>NaN</td>\n",
       "      <td>NaN</td>\n",
       "      <td>NaN</td>\n",
       "      <td>NaN</td>\n",
       "      <td>NaN</td>\n",
       "    </tr>\n",
       "    <tr>\n",
       "      <th>608</th>\n",
       "      <td>NaN</td>\n",
       "      <td>NaN</td>\n",
       "      <td>NaN</td>\n",
       "      <td>NaN</td>\n",
       "      <td>NaN</td>\n",
       "      <td>NaN</td>\n",
       "      <td>NaN</td>\n",
       "      <td>NaN</td>\n",
       "      <td>NaN</td>\n",
       "      <td>NaN</td>\n",
       "      <td>...</td>\n",
       "      <td>NaN</td>\n",
       "      <td>NaN</td>\n",
       "      <td>NaN</td>\n",
       "      <td>NaN</td>\n",
       "      <td>NaN</td>\n",
       "      <td>4.5</td>\n",
       "      <td>3.5</td>\n",
       "      <td>NaN</td>\n",
       "      <td>NaN</td>\n",
       "      <td>NaN</td>\n",
       "    </tr>\n",
       "    <tr>\n",
       "      <th>609</th>\n",
       "      <td>NaN</td>\n",
       "      <td>NaN</td>\n",
       "      <td>NaN</td>\n",
       "      <td>NaN</td>\n",
       "      <td>NaN</td>\n",
       "      <td>NaN</td>\n",
       "      <td>NaN</td>\n",
       "      <td>NaN</td>\n",
       "      <td>NaN</td>\n",
       "      <td>NaN</td>\n",
       "      <td>...</td>\n",
       "      <td>NaN</td>\n",
       "      <td>NaN</td>\n",
       "      <td>NaN</td>\n",
       "      <td>NaN</td>\n",
       "      <td>NaN</td>\n",
       "      <td>NaN</td>\n",
       "      <td>NaN</td>\n",
       "      <td>NaN</td>\n",
       "      <td>NaN</td>\n",
       "      <td>NaN</td>\n",
       "    </tr>\n",
       "    <tr>\n",
       "      <th>610</th>\n",
       "      <td>4.0</td>\n",
       "      <td>NaN</td>\n",
       "      <td>NaN</td>\n",
       "      <td>NaN</td>\n",
       "      <td>NaN</td>\n",
       "      <td>NaN</td>\n",
       "      <td>NaN</td>\n",
       "      <td>NaN</td>\n",
       "      <td>3.5</td>\n",
       "      <td>NaN</td>\n",
       "      <td>...</td>\n",
       "      <td>NaN</td>\n",
       "      <td>4.0</td>\n",
       "      <td>3.5</td>\n",
       "      <td>3.0</td>\n",
       "      <td>NaN</td>\n",
       "      <td>NaN</td>\n",
       "      <td>2.0</td>\n",
       "      <td>1.5</td>\n",
       "      <td>NaN</td>\n",
       "      <td>NaN</td>\n",
       "    </tr>\n",
       "  </tbody>\n",
       "</table>\n",
       "<p>610 rows × 9719 columns</p>\n",
       "</div>"
      ],
      "text/plain": [
       "title   '71 (2014)  'Hellboy': The Seeds of Creation (2004)  \\\n",
       "userId                                                        \n",
       "1              NaN                                      NaN   \n",
       "2              NaN                                      NaN   \n",
       "3              NaN                                      NaN   \n",
       "4              NaN                                      NaN   \n",
       "5              NaN                                      NaN   \n",
       "...            ...                                      ...   \n",
       "606            NaN                                      NaN   \n",
       "607            NaN                                      NaN   \n",
       "608            NaN                                      NaN   \n",
       "609            NaN                                      NaN   \n",
       "610            4.0                                      NaN   \n",
       "\n",
       "title   'Round Midnight (1986)  'Salem's Lot (2004)  \\\n",
       "userId                                                \n",
       "1                          NaN                  NaN   \n",
       "2                          NaN                  NaN   \n",
       "3                          NaN                  NaN   \n",
       "4                          NaN                  NaN   \n",
       "5                          NaN                  NaN   \n",
       "...                        ...                  ...   \n",
       "606                        NaN                  NaN   \n",
       "607                        NaN                  NaN   \n",
       "608                        NaN                  NaN   \n",
       "609                        NaN                  NaN   \n",
       "610                        NaN                  NaN   \n",
       "\n",
       "title   'Til There Was You (1997)  'Tis the Season for Love (2015)  \\\n",
       "userId                                                               \n",
       "1                             NaN                              NaN   \n",
       "2                             NaN                              NaN   \n",
       "3                             NaN                              NaN   \n",
       "4                             NaN                              NaN   \n",
       "5                             NaN                              NaN   \n",
       "...                           ...                              ...   \n",
       "606                           NaN                              NaN   \n",
       "607                           NaN                              NaN   \n",
       "608                           NaN                              NaN   \n",
       "609                           NaN                              NaN   \n",
       "610                           NaN                              NaN   \n",
       "\n",
       "title   'burbs, The (1989)  'night Mother (1986)  (500) Days of Summer (2009)  \\\n",
       "userId                                                                          \n",
       "1                      NaN                   NaN                          NaN   \n",
       "2                      NaN                   NaN                          NaN   \n",
       "3                      NaN                   NaN                          NaN   \n",
       "4                      NaN                   NaN                          NaN   \n",
       "5                      NaN                   NaN                          NaN   \n",
       "...                    ...                   ...                          ...   \n",
       "606                    NaN                   NaN                          NaN   \n",
       "607                    NaN                   NaN                          NaN   \n",
       "608                    NaN                   NaN                          NaN   \n",
       "609                    NaN                   NaN                          NaN   \n",
       "610                    NaN                   NaN                          3.5   \n",
       "\n",
       "title   *batteries not included (1987)  ...  Zulu (2013)  [REC] (2007)  \\\n",
       "userId                                  ...                              \n",
       "1                                  NaN  ...          NaN           NaN   \n",
       "2                                  NaN  ...          NaN           NaN   \n",
       "3                                  NaN  ...          NaN           NaN   \n",
       "4                                  NaN  ...          NaN           NaN   \n",
       "5                                  NaN  ...          NaN           NaN   \n",
       "...                                ...  ...          ...           ...   \n",
       "606                                NaN  ...          NaN           NaN   \n",
       "607                                NaN  ...          NaN           NaN   \n",
       "608                                NaN  ...          NaN           NaN   \n",
       "609                                NaN  ...          NaN           NaN   \n",
       "610                                NaN  ...          NaN           4.0   \n",
       "\n",
       "title   [REC]² (2009)  [REC]³ 3 Génesis (2012)  \\\n",
       "userId                                           \n",
       "1                 NaN                      NaN   \n",
       "2                 NaN                      NaN   \n",
       "3                 NaN                      NaN   \n",
       "4                 NaN                      NaN   \n",
       "5                 NaN                      NaN   \n",
       "...               ...                      ...   \n",
       "606               NaN                      NaN   \n",
       "607               NaN                      NaN   \n",
       "608               NaN                      NaN   \n",
       "609               NaN                      NaN   \n",
       "610               3.5                      3.0   \n",
       "\n",
       "title   anohana: The Flower We Saw That Day - The Movie (2013)  \\\n",
       "userId                                                           \n",
       "1                                                     NaN        \n",
       "2                                                     NaN        \n",
       "3                                                     NaN        \n",
       "4                                                     NaN        \n",
       "5                                                     NaN        \n",
       "...                                                   ...        \n",
       "606                                                   NaN        \n",
       "607                                                   NaN        \n",
       "608                                                   NaN        \n",
       "609                                                   NaN        \n",
       "610                                                   NaN        \n",
       "\n",
       "title   eXistenZ (1999)  xXx (2002)  xXx: State of the Union (2005)  \\\n",
       "userId                                                                \n",
       "1                   NaN         NaN                             NaN   \n",
       "2                   NaN         NaN                             NaN   \n",
       "3                   NaN         NaN                             NaN   \n",
       "4                   NaN         NaN                             NaN   \n",
       "5                   NaN         NaN                             NaN   \n",
       "...                 ...         ...                             ...   \n",
       "606                 NaN         NaN                             NaN   \n",
       "607                 NaN         NaN                             NaN   \n",
       "608                 4.5         3.5                             NaN   \n",
       "609                 NaN         NaN                             NaN   \n",
       "610                 NaN         2.0                             1.5   \n",
       "\n",
       "title   ¡Three Amigos! (1986)  À nous la liberté (Freedom for Us) (1931)  \n",
       "userId                                                                    \n",
       "1                         4.0                                        NaN  \n",
       "2                         NaN                                        NaN  \n",
       "3                         NaN                                        NaN  \n",
       "4                         NaN                                        NaN  \n",
       "5                         NaN                                        NaN  \n",
       "...                       ...                                        ...  \n",
       "606                       NaN                                        NaN  \n",
       "607                       NaN                                        NaN  \n",
       "608                       NaN                                        NaN  \n",
       "609                       NaN                                        NaN  \n",
       "610                       NaN                                        NaN  \n",
       "\n",
       "[610 rows x 9719 columns]"
      ]
     },
     "execution_count": 16,
     "metadata": {},
     "output_type": "execute_result"
    }
   ],
   "source": [
    "user_movie_rating_matrix= merged_movie_df.pivot_table(index='userId', columns=\"title\", values=\"rating\")\n",
    "\n",
    "user_movie_rating_matrix"
   ]
  },
  {
   "cell_type": "code",
   "execution_count": 17,
   "id": "59f2217c",
   "metadata": {},
   "outputs": [
    {
     "data": {
      "text/plain": [
       "(610, 9719)"
      ]
     },
     "execution_count": 17,
     "metadata": {},
     "output_type": "execute_result"
    }
   ],
   "source": [
    "user_movie_rating_matrix.shape"
   ]
  },
  {
   "cell_type": "code",
   "execution_count": 18,
   "id": "ab94fb22",
   "metadata": {},
   "outputs": [],
   "source": [
    "import warnings\n",
    "warnings.filterwarnings(\"ignore\")"
   ]
  },
  {
   "cell_type": "markdown",
   "id": "441c79ec",
   "metadata": {},
   "source": [
    "Now, we will find movie recommendation based on a single movie and then based on multiple movies"
   ]
  },
  {
   "cell_type": "markdown",
   "id": "4421b89f",
   "metadata": {},
   "source": [
    "Finding recommendatin based on a single movie"
   ]
  },
  {
   "cell_type": "markdown",
   "id": "ee648a91",
   "metadata": {},
   "source": [
    "Suppose that we want to find recommendation based on the movie Pulp Fiction (1994).\n",
    "\n",
    "First, we will filter the column that contains the user ratings for the movie."
   ]
  },
  {
   "cell_type": "code",
   "execution_count": 23,
   "id": "7344dacd",
   "metadata": {},
   "outputs": [],
   "source": [
    "pulp_fiction_ratings= user_movie_rating_matrix[\"Pulp Fiction (1994)\"]"
   ]
  },
  {
   "cell_type": "markdown",
   "id": "9046c3e7",
   "metadata": {},
   "source": [
    "Next, we will find the correlation between the user ratings of all movies and the user ratings for the movie pulp fiction"
   ]
  },
  {
   "cell_type": "code",
   "execution_count": 24,
   "id": "e4c927e5",
   "metadata": {},
   "outputs": [],
   "source": [
    "pulp_fiction_correlations= pd.DataFrame(user_movie_rating_matrix.corrwith(pulp_fiction_ratings),columns=[\"pf_corr\"])"
   ]
  },
  {
   "cell_type": "code",
   "execution_count": 25,
   "id": "069d2e92",
   "metadata": {},
   "outputs": [
    {
     "data": {
      "text/html": [
       "<div>\n",
       "<style scoped>\n",
       "    .dataframe tbody tr th:only-of-type {\n",
       "        vertical-align: middle;\n",
       "    }\n",
       "\n",
       "    .dataframe tbody tr th {\n",
       "        vertical-align: top;\n",
       "    }\n",
       "\n",
       "    .dataframe thead th {\n",
       "        text-align: right;\n",
       "    }\n",
       "</style>\n",
       "<table border=\"1\" class=\"dataframe\">\n",
       "  <thead>\n",
       "    <tr style=\"text-align: right;\">\n",
       "      <th></th>\n",
       "      <th>pf_corr</th>\n",
       "    </tr>\n",
       "    <tr>\n",
       "      <th>title</th>\n",
       "      <th></th>\n",
       "    </tr>\n",
       "  </thead>\n",
       "  <tbody>\n",
       "    <tr>\n",
       "      <th>Rare Exports: A Christmas Tale (Rare Exports) (2010)</th>\n",
       "      <td>1.0</td>\n",
       "    </tr>\n",
       "    <tr>\n",
       "      <th>Azumi (2003)</th>\n",
       "      <td>1.0</td>\n",
       "    </tr>\n",
       "    <tr>\n",
       "      <th>Maxed Out: Hard Times, Easy Credit and the Era of Predatory Lenders (2006)</th>\n",
       "      <td>1.0</td>\n",
       "    </tr>\n",
       "    <tr>\n",
       "      <th>War Zone, The (1999)</th>\n",
       "      <td>1.0</td>\n",
       "    </tr>\n",
       "    <tr>\n",
       "      <th>Wolfman, The (2010)</th>\n",
       "      <td>1.0</td>\n",
       "    </tr>\n",
       "  </tbody>\n",
       "</table>\n",
       "</div>"
      ],
      "text/plain": [
       "                                                    pf_corr\n",
       "title                                                      \n",
       "Rare Exports: A Christmas Tale (Rare Exports) (...      1.0\n",
       "Azumi (2003)                                            1.0\n",
       "Maxed Out: Hard Times, Easy Credit and the Era ...      1.0\n",
       "War Zone, The (1999)                                    1.0\n",
       "Wolfman, The (2010)                                     1.0"
      ]
     },
     "execution_count": 25,
     "metadata": {},
     "output_type": "execute_result"
    }
   ],
   "source": [
    "pulp_fiction_correlations.sort_values(\"pf_corr\",ascending=False).head(5)"
   ]
  },
  {
   "cell_type": "markdown",
   "id": "fba67a71",
   "metadata": {},
   "source": [
    "Correlation itself is not giving meaningful results.\n",
    "\n",
    "One solution to this problem can be in addition to the correlation between the movies, we also use rating counts,\n",
    "for the correlated movie as a criterion for fiinding the best recommendation."
   ]
  },
  {
   "cell_type": "code",
   "execution_count": 26,
   "id": "4f69c0ea",
   "metadata": {},
   "outputs": [
    {
     "data": {
      "text/html": [
       "<div>\n",
       "<style scoped>\n",
       "    .dataframe tbody tr th:only-of-type {\n",
       "        vertical-align: middle;\n",
       "    }\n",
       "\n",
       "    .dataframe tbody tr th {\n",
       "        vertical-align: top;\n",
       "    }\n",
       "\n",
       "    .dataframe thead th {\n",
       "        text-align: right;\n",
       "    }\n",
       "</style>\n",
       "<table border=\"1\" class=\"dataframe\">\n",
       "  <thead>\n",
       "    <tr style=\"text-align: right;\">\n",
       "      <th></th>\n",
       "      <th>pf_corr</th>\n",
       "      <th>rating_count</th>\n",
       "    </tr>\n",
       "    <tr>\n",
       "      <th>title</th>\n",
       "      <th></th>\n",
       "      <th></th>\n",
       "    </tr>\n",
       "  </thead>\n",
       "  <tbody>\n",
       "    <tr>\n",
       "      <th>'71 (2014)</th>\n",
       "      <td>NaN</td>\n",
       "      <td>1</td>\n",
       "    </tr>\n",
       "    <tr>\n",
       "      <th>'Hellboy': The Seeds of Creation (2004)</th>\n",
       "      <td>NaN</td>\n",
       "      <td>1</td>\n",
       "    </tr>\n",
       "    <tr>\n",
       "      <th>'Round Midnight (1986)</th>\n",
       "      <td>NaN</td>\n",
       "      <td>2</td>\n",
       "    </tr>\n",
       "    <tr>\n",
       "      <th>'Salem's Lot (2004)</th>\n",
       "      <td>NaN</td>\n",
       "      <td>1</td>\n",
       "    </tr>\n",
       "    <tr>\n",
       "      <th>'Til There Was You (1997)</th>\n",
       "      <td>NaN</td>\n",
       "      <td>2</td>\n",
       "    </tr>\n",
       "  </tbody>\n",
       "</table>\n",
       "</div>"
      ],
      "text/plain": [
       "                                         pf_corr  rating_count\n",
       "title                                                         \n",
       "'71 (2014)                                   NaN             1\n",
       "'Hellboy': The Seeds of Creation (2004)      NaN             1\n",
       "'Round Midnight (1986)                       NaN             2\n",
       "'Salem's Lot (2004)                          NaN             1\n",
       "'Til There Was You (1997)                    NaN             2"
      ]
     },
     "execution_count": 26,
     "metadata": {},
     "output_type": "execute_result"
    }
   ],
   "source": [
    "pulp_fiction_correlations= pulp_fiction_correlations.join(movie_rating_mean_count[\"rating_count\"])\n",
    "\n",
    "pulp_fiction_correlations.head()"
   ]
  },
  {
   "cell_type": "markdown",
   "id": "a608e425",
   "metadata": {},
   "source": [
    "We will remove all the movies with null correlation with the Pulp Fiction (1994)\n",
    "\n"
   ]
  },
  {
   "cell_type": "code",
   "execution_count": 28,
   "id": "0a366ceb",
   "metadata": {},
   "outputs": [],
   "source": [
    "pulp_fiction_correlations.dropna(inplace=True)"
   ]
  },
  {
   "cell_type": "code",
   "execution_count": 29,
   "id": "b8972fdd",
   "metadata": {},
   "outputs": [
    {
     "data": {
      "text/html": [
       "<div>\n",
       "<style scoped>\n",
       "    .dataframe tbody tr th:only-of-type {\n",
       "        vertical-align: middle;\n",
       "    }\n",
       "\n",
       "    .dataframe tbody tr th {\n",
       "        vertical-align: top;\n",
       "    }\n",
       "\n",
       "    .dataframe thead th {\n",
       "        text-align: right;\n",
       "    }\n",
       "</style>\n",
       "<table border=\"1\" class=\"dataframe\">\n",
       "  <thead>\n",
       "    <tr style=\"text-align: right;\">\n",
       "      <th></th>\n",
       "      <th>pf_corr</th>\n",
       "      <th>rating_count</th>\n",
       "    </tr>\n",
       "    <tr>\n",
       "      <th>title</th>\n",
       "      <th></th>\n",
       "      <th></th>\n",
       "    </tr>\n",
       "  </thead>\n",
       "  <tbody>\n",
       "    <tr>\n",
       "      <th>Rare Exports: A Christmas Tale (Rare Exports) (2010)</th>\n",
       "      <td>1.0</td>\n",
       "      <td>2</td>\n",
       "    </tr>\n",
       "    <tr>\n",
       "      <th>Azumi (2003)</th>\n",
       "      <td>1.0</td>\n",
       "      <td>2</td>\n",
       "    </tr>\n",
       "    <tr>\n",
       "      <th>Maxed Out: Hard Times, Easy Credit and the Era of Predatory Lenders (2006)</th>\n",
       "      <td>1.0</td>\n",
       "      <td>2</td>\n",
       "    </tr>\n",
       "    <tr>\n",
       "      <th>War Zone, The (1999)</th>\n",
       "      <td>1.0</td>\n",
       "      <td>2</td>\n",
       "    </tr>\n",
       "    <tr>\n",
       "      <th>Wolfman, The (2010)</th>\n",
       "      <td>1.0</td>\n",
       "      <td>2</td>\n",
       "    </tr>\n",
       "  </tbody>\n",
       "</table>\n",
       "</div>"
      ],
      "text/plain": [
       "                                                    pf_corr  rating_count\n",
       "title                                                                    \n",
       "Rare Exports: A Christmas Tale (Rare Exports) (...      1.0             2\n",
       "Azumi (2003)                                            1.0             2\n",
       "Maxed Out: Hard Times, Easy Credit and the Era ...      1.0             2\n",
       "War Zone, The (1999)                                    1.0             2\n",
       "Wolfman, The (2010)                                     1.0             2"
      ]
     },
     "execution_count": 29,
     "metadata": {},
     "output_type": "execute_result"
    }
   ],
   "source": [
    "pulp_fiction_correlations.sort_values(\"pf_corr\",ascending=False).head(5)"
   ]
  },
  {
   "cell_type": "markdown",
   "id": "a061c635",
   "metadata": {},
   "source": [
    "A better way is to find the movies iwth rating counts of atleast 50 and having the highest correlation with\n",
    "Pulp Fiction (1994)"
   ]
  },
  {
   "cell_type": "code",
   "execution_count": 30,
   "id": "70d4fa8d",
   "metadata": {},
   "outputs": [
    {
     "data": {
      "text/html": [
       "<div>\n",
       "<style scoped>\n",
       "    .dataframe tbody tr th:only-of-type {\n",
       "        vertical-align: middle;\n",
       "    }\n",
       "\n",
       "    .dataframe tbody tr th {\n",
       "        vertical-align: top;\n",
       "    }\n",
       "\n",
       "    .dataframe thead th {\n",
       "        text-align: right;\n",
       "    }\n",
       "</style>\n",
       "<table border=\"1\" class=\"dataframe\">\n",
       "  <thead>\n",
       "    <tr style=\"text-align: right;\">\n",
       "      <th></th>\n",
       "      <th>pf_corr</th>\n",
       "      <th>rating_count</th>\n",
       "    </tr>\n",
       "    <tr>\n",
       "      <th>title</th>\n",
       "      <th></th>\n",
       "      <th></th>\n",
       "    </tr>\n",
       "  </thead>\n",
       "  <tbody>\n",
       "    <tr>\n",
       "      <th>Pulp Fiction (1994)</th>\n",
       "      <td>1.000000</td>\n",
       "      <td>307</td>\n",
       "    </tr>\n",
       "    <tr>\n",
       "      <th>Wolf of Wall Street, The (2013)</th>\n",
       "      <td>0.579915</td>\n",
       "      <td>54</td>\n",
       "    </tr>\n",
       "    <tr>\n",
       "      <th>Fight Club (1999)</th>\n",
       "      <td>0.543465</td>\n",
       "      <td>218</td>\n",
       "    </tr>\n",
       "    <tr>\n",
       "      <th>Kill Bill: Vol. 1 (2003)</th>\n",
       "      <td>0.504147</td>\n",
       "      <td>131</td>\n",
       "    </tr>\n",
       "    <tr>\n",
       "      <th>Interstellar (2014)</th>\n",
       "      <td>0.503411</td>\n",
       "      <td>73</td>\n",
       "    </tr>\n",
       "  </tbody>\n",
       "</table>\n",
       "</div>"
      ],
      "text/plain": [
       "                                  pf_corr  rating_count\n",
       "title                                                  \n",
       "Pulp Fiction (1994)              1.000000           307\n",
       "Wolf of Wall Street, The (2013)  0.579915            54\n",
       "Fight Club (1999)                0.543465           218\n",
       "Kill Bill: Vol. 1 (2003)         0.504147           131\n",
       "Interstellar (2014)              0.503411            73"
      ]
     },
     "execution_count": 30,
     "metadata": {},
     "output_type": "execute_result"
    }
   ],
   "source": [
    "pulp_fiction_correlations_50=pulp_fiction_correlations[pulp_fiction_correlations['rating_count']>50]\n",
    "\n",
    "pulp_fiction_correlations_50.sort_values('pf_corr',ascending=False).head()"
   ]
  },
  {
   "cell_type": "markdown",
   "id": "e34444ea",
   "metadata": {},
   "source": [
    "Finding Recommendatios based on multiple movies"
   ]
  },
  {
   "cell_type": "markdown",
   "id": "93f0411a",
   "metadata": {},
   "source": [
    "In this we will see how to recommend movies to a user based on his ratings of multiple movies.\n",
    "\n",
    "The first step is to create a data frame, which contains a correlation between all the movies in our dataset\n",
    "in the form of a matrix."
   ]
  },
  {
   "cell_type": "code",
   "execution_count": 31,
   "id": "17f26bee",
   "metadata": {},
   "outputs": [],
   "source": [
    "all_movie_correlations= user_movie_rating_matrix.corr(method='pearson',min_periods=50)"
   ]
  },
  {
   "cell_type": "markdown",
   "id": "f018b85a",
   "metadata": {},
   "source": [
    "The min_periods attribute value specifies the minimum number of observations required per pair of columns\n",
    "to have a valid result.\n",
    "\n",
    "A min_periods value of 50 specifies calculating correlation for only those pairs of movies that have been rated\n",
    "by atleast 50 same users"
   ]
  },
  {
   "cell_type": "code",
   "execution_count": 32,
   "id": "e593cbd5",
   "metadata": {},
   "outputs": [
    {
     "data": {
      "text/html": [
       "<div>\n",
       "<style scoped>\n",
       "    .dataframe tbody tr th:only-of-type {\n",
       "        vertical-align: middle;\n",
       "    }\n",
       "\n",
       "    .dataframe tbody tr th {\n",
       "        vertical-align: top;\n",
       "    }\n",
       "\n",
       "    .dataframe thead th {\n",
       "        text-align: right;\n",
       "    }\n",
       "</style>\n",
       "<table border=\"1\" class=\"dataframe\">\n",
       "  <thead>\n",
       "    <tr style=\"text-align: right;\">\n",
       "      <th>title</th>\n",
       "      <th>'71 (2014)</th>\n",
       "      <th>'Hellboy': The Seeds of Creation (2004)</th>\n",
       "      <th>'Round Midnight (1986)</th>\n",
       "      <th>'Salem's Lot (2004)</th>\n",
       "      <th>'Til There Was You (1997)</th>\n",
       "      <th>'Tis the Season for Love (2015)</th>\n",
       "      <th>'burbs, The (1989)</th>\n",
       "      <th>'night Mother (1986)</th>\n",
       "      <th>(500) Days of Summer (2009)</th>\n",
       "      <th>*batteries not included (1987)</th>\n",
       "      <th>...</th>\n",
       "      <th>Zulu (2013)</th>\n",
       "      <th>[REC] (2007)</th>\n",
       "      <th>[REC]² (2009)</th>\n",
       "      <th>[REC]³ 3 Génesis (2012)</th>\n",
       "      <th>anohana: The Flower We Saw That Day - The Movie (2013)</th>\n",
       "      <th>eXistenZ (1999)</th>\n",
       "      <th>xXx (2002)</th>\n",
       "      <th>xXx: State of the Union (2005)</th>\n",
       "      <th>¡Three Amigos! (1986)</th>\n",
       "      <th>À nous la liberté (Freedom for Us) (1931)</th>\n",
       "    </tr>\n",
       "    <tr>\n",
       "      <th>title</th>\n",
       "      <th></th>\n",
       "      <th></th>\n",
       "      <th></th>\n",
       "      <th></th>\n",
       "      <th></th>\n",
       "      <th></th>\n",
       "      <th></th>\n",
       "      <th></th>\n",
       "      <th></th>\n",
       "      <th></th>\n",
       "      <th></th>\n",
       "      <th></th>\n",
       "      <th></th>\n",
       "      <th></th>\n",
       "      <th></th>\n",
       "      <th></th>\n",
       "      <th></th>\n",
       "      <th></th>\n",
       "      <th></th>\n",
       "      <th></th>\n",
       "      <th></th>\n",
       "    </tr>\n",
       "  </thead>\n",
       "  <tbody>\n",
       "    <tr>\n",
       "      <th>'71 (2014)</th>\n",
       "      <td>NaN</td>\n",
       "      <td>NaN</td>\n",
       "      <td>NaN</td>\n",
       "      <td>NaN</td>\n",
       "      <td>NaN</td>\n",
       "      <td>NaN</td>\n",
       "      <td>NaN</td>\n",
       "      <td>NaN</td>\n",
       "      <td>NaN</td>\n",
       "      <td>NaN</td>\n",
       "      <td>...</td>\n",
       "      <td>NaN</td>\n",
       "      <td>NaN</td>\n",
       "      <td>NaN</td>\n",
       "      <td>NaN</td>\n",
       "      <td>NaN</td>\n",
       "      <td>NaN</td>\n",
       "      <td>NaN</td>\n",
       "      <td>NaN</td>\n",
       "      <td>NaN</td>\n",
       "      <td>NaN</td>\n",
       "    </tr>\n",
       "    <tr>\n",
       "      <th>'Hellboy': The Seeds of Creation (2004)</th>\n",
       "      <td>NaN</td>\n",
       "      <td>NaN</td>\n",
       "      <td>NaN</td>\n",
       "      <td>NaN</td>\n",
       "      <td>NaN</td>\n",
       "      <td>NaN</td>\n",
       "      <td>NaN</td>\n",
       "      <td>NaN</td>\n",
       "      <td>NaN</td>\n",
       "      <td>NaN</td>\n",
       "      <td>...</td>\n",
       "      <td>NaN</td>\n",
       "      <td>NaN</td>\n",
       "      <td>NaN</td>\n",
       "      <td>NaN</td>\n",
       "      <td>NaN</td>\n",
       "      <td>NaN</td>\n",
       "      <td>NaN</td>\n",
       "      <td>NaN</td>\n",
       "      <td>NaN</td>\n",
       "      <td>NaN</td>\n",
       "    </tr>\n",
       "    <tr>\n",
       "      <th>'Round Midnight (1986)</th>\n",
       "      <td>NaN</td>\n",
       "      <td>NaN</td>\n",
       "      <td>NaN</td>\n",
       "      <td>NaN</td>\n",
       "      <td>NaN</td>\n",
       "      <td>NaN</td>\n",
       "      <td>NaN</td>\n",
       "      <td>NaN</td>\n",
       "      <td>NaN</td>\n",
       "      <td>NaN</td>\n",
       "      <td>...</td>\n",
       "      <td>NaN</td>\n",
       "      <td>NaN</td>\n",
       "      <td>NaN</td>\n",
       "      <td>NaN</td>\n",
       "      <td>NaN</td>\n",
       "      <td>NaN</td>\n",
       "      <td>NaN</td>\n",
       "      <td>NaN</td>\n",
       "      <td>NaN</td>\n",
       "      <td>NaN</td>\n",
       "    </tr>\n",
       "    <tr>\n",
       "      <th>'Salem's Lot (2004)</th>\n",
       "      <td>NaN</td>\n",
       "      <td>NaN</td>\n",
       "      <td>NaN</td>\n",
       "      <td>NaN</td>\n",
       "      <td>NaN</td>\n",
       "      <td>NaN</td>\n",
       "      <td>NaN</td>\n",
       "      <td>NaN</td>\n",
       "      <td>NaN</td>\n",
       "      <td>NaN</td>\n",
       "      <td>...</td>\n",
       "      <td>NaN</td>\n",
       "      <td>NaN</td>\n",
       "      <td>NaN</td>\n",
       "      <td>NaN</td>\n",
       "      <td>NaN</td>\n",
       "      <td>NaN</td>\n",
       "      <td>NaN</td>\n",
       "      <td>NaN</td>\n",
       "      <td>NaN</td>\n",
       "      <td>NaN</td>\n",
       "    </tr>\n",
       "    <tr>\n",
       "      <th>'Til There Was You (1997)</th>\n",
       "      <td>NaN</td>\n",
       "      <td>NaN</td>\n",
       "      <td>NaN</td>\n",
       "      <td>NaN</td>\n",
       "      <td>NaN</td>\n",
       "      <td>NaN</td>\n",
       "      <td>NaN</td>\n",
       "      <td>NaN</td>\n",
       "      <td>NaN</td>\n",
       "      <td>NaN</td>\n",
       "      <td>...</td>\n",
       "      <td>NaN</td>\n",
       "      <td>NaN</td>\n",
       "      <td>NaN</td>\n",
       "      <td>NaN</td>\n",
       "      <td>NaN</td>\n",
       "      <td>NaN</td>\n",
       "      <td>NaN</td>\n",
       "      <td>NaN</td>\n",
       "      <td>NaN</td>\n",
       "      <td>NaN</td>\n",
       "    </tr>\n",
       "  </tbody>\n",
       "</table>\n",
       "<p>5 rows × 9719 columns</p>\n",
       "</div>"
      ],
      "text/plain": [
       "title                                    '71 (2014)  \\\n",
       "title                                                 \n",
       "'71 (2014)                                      NaN   \n",
       "'Hellboy': The Seeds of Creation (2004)         NaN   \n",
       "'Round Midnight (1986)                          NaN   \n",
       "'Salem's Lot (2004)                             NaN   \n",
       "'Til There Was You (1997)                       NaN   \n",
       "\n",
       "title                                    'Hellboy': The Seeds of Creation (2004)  \\\n",
       "title                                                                              \n",
       "'71 (2014)                                                                   NaN   \n",
       "'Hellboy': The Seeds of Creation (2004)                                      NaN   \n",
       "'Round Midnight (1986)                                                       NaN   \n",
       "'Salem's Lot (2004)                                                          NaN   \n",
       "'Til There Was You (1997)                                                    NaN   \n",
       "\n",
       "title                                    'Round Midnight (1986)  \\\n",
       "title                                                             \n",
       "'71 (2014)                                                  NaN   \n",
       "'Hellboy': The Seeds of Creation (2004)                     NaN   \n",
       "'Round Midnight (1986)                                      NaN   \n",
       "'Salem's Lot (2004)                                         NaN   \n",
       "'Til There Was You (1997)                                   NaN   \n",
       "\n",
       "title                                    'Salem's Lot (2004)  \\\n",
       "title                                                          \n",
       "'71 (2014)                                               NaN   \n",
       "'Hellboy': The Seeds of Creation (2004)                  NaN   \n",
       "'Round Midnight (1986)                                   NaN   \n",
       "'Salem's Lot (2004)                                      NaN   \n",
       "'Til There Was You (1997)                                NaN   \n",
       "\n",
       "title                                    'Til There Was You (1997)  \\\n",
       "title                                                                \n",
       "'71 (2014)                                                     NaN   \n",
       "'Hellboy': The Seeds of Creation (2004)                        NaN   \n",
       "'Round Midnight (1986)                                         NaN   \n",
       "'Salem's Lot (2004)                                            NaN   \n",
       "'Til There Was You (1997)                                      NaN   \n",
       "\n",
       "title                                    'Tis the Season for Love (2015)  \\\n",
       "title                                                                      \n",
       "'71 (2014)                                                           NaN   \n",
       "'Hellboy': The Seeds of Creation (2004)                              NaN   \n",
       "'Round Midnight (1986)                                               NaN   \n",
       "'Salem's Lot (2004)                                                  NaN   \n",
       "'Til There Was You (1997)                                            NaN   \n",
       "\n",
       "title                                    'burbs, The (1989)  \\\n",
       "title                                                         \n",
       "'71 (2014)                                              NaN   \n",
       "'Hellboy': The Seeds of Creation (2004)                 NaN   \n",
       "'Round Midnight (1986)                                  NaN   \n",
       "'Salem's Lot (2004)                                     NaN   \n",
       "'Til There Was You (1997)                               NaN   \n",
       "\n",
       "title                                    'night Mother (1986)  \\\n",
       "title                                                           \n",
       "'71 (2014)                                                NaN   \n",
       "'Hellboy': The Seeds of Creation (2004)                   NaN   \n",
       "'Round Midnight (1986)                                    NaN   \n",
       "'Salem's Lot (2004)                                       NaN   \n",
       "'Til There Was You (1997)                                 NaN   \n",
       "\n",
       "title                                    (500) Days of Summer (2009)  \\\n",
       "title                                                                  \n",
       "'71 (2014)                                                       NaN   \n",
       "'Hellboy': The Seeds of Creation (2004)                          NaN   \n",
       "'Round Midnight (1986)                                           NaN   \n",
       "'Salem's Lot (2004)                                              NaN   \n",
       "'Til There Was You (1997)                                        NaN   \n",
       "\n",
       "title                                    *batteries not included (1987)  ...  \\\n",
       "title                                                                    ...   \n",
       "'71 (2014)                                                          NaN  ...   \n",
       "'Hellboy': The Seeds of Creation (2004)                             NaN  ...   \n",
       "'Round Midnight (1986)                                              NaN  ...   \n",
       "'Salem's Lot (2004)                                                 NaN  ...   \n",
       "'Til There Was You (1997)                                           NaN  ...   \n",
       "\n",
       "title                                    Zulu (2013)  [REC] (2007)  \\\n",
       "title                                                                \n",
       "'71 (2014)                                       NaN           NaN   \n",
       "'Hellboy': The Seeds of Creation (2004)          NaN           NaN   \n",
       "'Round Midnight (1986)                           NaN           NaN   \n",
       "'Salem's Lot (2004)                              NaN           NaN   \n",
       "'Til There Was You (1997)                        NaN           NaN   \n",
       "\n",
       "title                                    [REC]² (2009)  \\\n",
       "title                                                    \n",
       "'71 (2014)                                         NaN   \n",
       "'Hellboy': The Seeds of Creation (2004)            NaN   \n",
       "'Round Midnight (1986)                             NaN   \n",
       "'Salem's Lot (2004)                                NaN   \n",
       "'Til There Was You (1997)                          NaN   \n",
       "\n",
       "title                                    [REC]³ 3 Génesis (2012)  \\\n",
       "title                                                              \n",
       "'71 (2014)                                                   NaN   \n",
       "'Hellboy': The Seeds of Creation (2004)                      NaN   \n",
       "'Round Midnight (1986)                                       NaN   \n",
       "'Salem's Lot (2004)                                          NaN   \n",
       "'Til There Was You (1997)                                    NaN   \n",
       "\n",
       "title                                    anohana: The Flower We Saw That Day - The Movie (2013)  \\\n",
       "title                                                                                             \n",
       "'71 (2014)                                                                             NaN        \n",
       "'Hellboy': The Seeds of Creation (2004)                                                NaN        \n",
       "'Round Midnight (1986)                                                                 NaN        \n",
       "'Salem's Lot (2004)                                                                    NaN        \n",
       "'Til There Was You (1997)                                                              NaN        \n",
       "\n",
       "title                                    eXistenZ (1999)  xXx (2002)  \\\n",
       "title                                                                  \n",
       "'71 (2014)                                           NaN         NaN   \n",
       "'Hellboy': The Seeds of Creation (2004)              NaN         NaN   \n",
       "'Round Midnight (1986)                               NaN         NaN   \n",
       "'Salem's Lot (2004)                                  NaN         NaN   \n",
       "'Til There Was You (1997)                            NaN         NaN   \n",
       "\n",
       "title                                    xXx: State of the Union (2005)  \\\n",
       "title                                                                     \n",
       "'71 (2014)                                                          NaN   \n",
       "'Hellboy': The Seeds of Creation (2004)                             NaN   \n",
       "'Round Midnight (1986)                                              NaN   \n",
       "'Salem's Lot (2004)                                                 NaN   \n",
       "'Til There Was You (1997)                                           NaN   \n",
       "\n",
       "title                                    ¡Three Amigos! (1986)  \\\n",
       "title                                                            \n",
       "'71 (2014)                                                 NaN   \n",
       "'Hellboy': The Seeds of Creation (2004)                    NaN   \n",
       "'Round Midnight (1986)                                     NaN   \n",
       "'Salem's Lot (2004)                                        NaN   \n",
       "'Til There Was You (1997)                                  NaN   \n",
       "\n",
       "title                                    À nous la liberté (Freedom for Us) (1931)  \n",
       "title                                                                               \n",
       "'71 (2014)                                                                     NaN  \n",
       "'Hellboy': The Seeds of Creation (2004)                                        NaN  \n",
       "'Round Midnight (1986)                                                         NaN  \n",
       "'Salem's Lot (2004)                                                            NaN  \n",
       "'Til There Was You (1997)                                                      NaN  \n",
       "\n",
       "[5 rows x 9719 columns]"
      ]
     },
     "execution_count": 32,
     "metadata": {},
     "output_type": "execute_result"
    }
   ],
   "source": [
    "all_movie_correlations.head()"
   ]
  },
  {
   "cell_type": "markdown",
   "id": "f240417e",
   "metadata": {},
   "source": [
    "Now suppose that a user lons into website.\n",
    "\n",
    "The user has already watched three movies and has given rating to those movies."
   ]
  },
  {
   "cell_type": "code",
   "execution_count": 33,
   "id": "c95ec37f",
   "metadata": {},
   "outputs": [
    {
     "data": {
      "text/html": [
       "<div>\n",
       "<style scoped>\n",
       "    .dataframe tbody tr th:only-of-type {\n",
       "        vertical-align: middle;\n",
       "    }\n",
       "\n",
       "    .dataframe tbody tr th {\n",
       "        vertical-align: top;\n",
       "    }\n",
       "\n",
       "    .dataframe thead th {\n",
       "        text-align: right;\n",
       "    }\n",
       "</style>\n",
       "<table border=\"1\" class=\"dataframe\">\n",
       "  <thead>\n",
       "    <tr style=\"text-align: right;\">\n",
       "      <th></th>\n",
       "      <th>Movie_Name</th>\n",
       "      <th>Movie_Rating</th>\n",
       "    </tr>\n",
       "  </thead>\n",
       "  <tbody>\n",
       "    <tr>\n",
       "      <th>0</th>\n",
       "      <td>Forrest Gump (1994)</td>\n",
       "      <td>4.0</td>\n",
       "    </tr>\n",
       "    <tr>\n",
       "      <th>1</th>\n",
       "      <td>Fight Club (1999)</td>\n",
       "      <td>3.5</td>\n",
       "    </tr>\n",
       "    <tr>\n",
       "      <th>2</th>\n",
       "      <td>Interstellar (2014)</td>\n",
       "      <td>4.0</td>\n",
       "    </tr>\n",
       "  </tbody>\n",
       "</table>\n",
       "</div>"
      ],
      "text/plain": [
       "            Movie_Name  Movie_Rating\n",
       "0  Forrest Gump (1994)           4.0\n",
       "1    Fight Club (1999)           3.5\n",
       "2  Interstellar (2014)           4.0"
      ]
     },
     "execution_count": 33,
     "metadata": {},
     "output_type": "execute_result"
    }
   ],
   "source": [
    "movie_data=[['Forrest Gump (1994)',4.0],['Fight Club (1999)',3.5],['Interstellar (2014)',4.0]]\n",
    "\n",
    "test_movies= pd.DataFrame(movie_data, columns=['Movie_Name','Movie_Rating'])\n",
    "\n",
    "test_movies.head()"
   ]
  },
  {
   "cell_type": "markdown",
   "id": "171cd999",
   "metadata": {},
   "source": [
    "We will be recommending movies from the dataset based on the ratings by a new user for these three movies"
   ]
  },
  {
   "cell_type": "code",
   "execution_count": 34,
   "id": "a88edcff",
   "metadata": {},
   "outputs": [
    {
     "name": "stdout",
     "output_type": "stream",
     "text": [
      "Forrest Gump (1994)\n",
      "4.0\n"
     ]
    }
   ],
   "source": [
    "print(test_movies['Movie_Name'][0])\n",
    "print(test_movies['Movie_Rating'][0])"
   ]
  },
  {
   "cell_type": "markdown",
   "id": "220cb4e9",
   "metadata": {},
   "source": [
    "From the all_movie_correlations dataframe, let's obtian correlation values for the movies related to Forest Gump (1994)"
   ]
  },
  {
   "cell_type": "code",
   "execution_count": 37,
   "id": "3cfbdfbc",
   "metadata": {},
   "outputs": [
    {
     "data": {
      "text/plain": [
       "title\n",
       "2001: A Space Odyssey (1968)                  0.191558\n",
       "300 (2007)                                    0.321523\n",
       "40-Year-Old Virgin, The (2005)                0.156517\n",
       "Ace Ventura: Pet Detective (1994)             0.137870\n",
       "Ace Ventura: When Nature Calls (1995)         0.421868\n",
       "                                                ...   \n",
       "Willy Wonka & the Chocolate Factory (1971)    0.195081\n",
       "Wizard of Oz, The (1939)                      0.162368\n",
       "X-Men (2000)                                  0.200786\n",
       "X2: X-Men United (2003)                       0.246717\n",
       "Young Frankenstein (1974)                     0.230049\n",
       "Name: Forrest Gump (1994), Length: 313, dtype: float64"
      ]
     },
     "execution_count": 37,
     "metadata": {},
     "output_type": "execute_result"
    }
   ],
   "source": [
    "all_movie_correlations['Forrest Gump (1994)'].dropna()"
   ]
  },
  {
   "cell_type": "code",
   "execution_count": 40,
   "id": "2f28ab88",
   "metadata": {},
   "outputs": [],
   "source": [
    "recommended_movies= pd.Series()\n",
    "\n",
    "for i in range(0,2):\n",
    "    movie= all_movie_correlations[test_movies['Movie_Name'][i]].dropna()\n",
    "    movie= movie.map(lambda movie_corr: movie_corr*test_movies[\"Movie_Rating\"][i])\n",
    "    recommended_movies= recommended_movies.append(movie)"
   ]
  },
  {
   "cell_type": "code",
   "execution_count": 41,
   "id": "5a9fa786",
   "metadata": {},
   "outputs": [
    {
     "data": {
      "text/plain": [
       "2001: A Space Odyssey (1968)                  0.766231\n",
       "300 (2007)                                    1.286094\n",
       "40-Year-Old Virgin, The (2005)                0.626066\n",
       "Ace Ventura: Pet Detective (1994)             0.551479\n",
       "Ace Ventura: When Nature Calls (1995)         1.687472\n",
       "                                                ...   \n",
       "Who Framed Roger Rabbit? (1988)               0.874334\n",
       "Willy Wonka & the Chocolate Factory (1971)    0.663971\n",
       "Wizard of Oz, The (1939)                     -0.971160\n",
       "X-Men (2000)                                 -0.063318\n",
       "X2: X-Men United (2003)                      -0.661265\n",
       "Length: 529, dtype: float64"
      ]
     },
     "execution_count": 41,
     "metadata": {},
     "output_type": "execute_result"
    }
   ],
   "source": [
    "recommended_movies"
   ]
  },
  {
   "cell_type": "markdown",
   "id": "b8ade5e8",
   "metadata": {},
   "source": [
    "To get a final recommendation, you can sort the movies in the descending order of the weighted correlation"
   ]
  },
  {
   "cell_type": "code",
   "execution_count": 42,
   "id": "dabd8957",
   "metadata": {},
   "outputs": [
    {
     "name": "stdout",
     "output_type": "stream",
     "text": [
      "Forrest Gump (1994)                           4.000000\n",
      "Fight Club (1999)                             3.500000\n",
      "Mr. Holland's Opus (1995)                     2.608575\n",
      "Lock, Stock & Two Smoking Barrels (1998)      2.570366\n",
      "Django Unchained (2012)                       2.225161\n",
      "Life Is Beautiful (La Vita è bella) (1997)    2.203741\n",
      "Pocahontas (1995)                             2.200471\n",
      "Big (1988)                                    1.969404\n",
      "Good Will Hunting (1997)                      1.936169\n",
      "Pulp Fiction (1994)                           1.902128\n",
      "dtype: float64\n"
     ]
    }
   ],
   "source": [
    "recommended_movies.sort_values(inplace=True,ascending=False)\n",
    "\n",
    "print(recommended_movies.head(10))"
   ]
  },
  {
   "cell_type": "code",
   "execution_count": null,
   "id": "d9f85479",
   "metadata": {},
   "outputs": [],
   "source": []
  }
 ],
 "metadata": {
  "kernelspec": {
   "display_name": "Python 3 (ipykernel)",
   "language": "python",
   "name": "python3"
  },
  "language_info": {
   "codemirror_mode": {
    "name": "ipython",
    "version": 3
   },
   "file_extension": ".py",
   "mimetype": "text/x-python",
   "name": "python",
   "nbconvert_exporter": "python",
   "pygments_lexer": "ipython3",
   "version": "3.9.12"
  }
 },
 "nbformat": 4,
 "nbformat_minor": 5
}
